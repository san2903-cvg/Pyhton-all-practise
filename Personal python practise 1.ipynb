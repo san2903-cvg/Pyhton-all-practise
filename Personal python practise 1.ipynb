{
 "cells": [
  {
   "cell_type": "code",
   "execution_count": null,
   "id": "deccaf83-e586-420e-b16a-5b2541651fd2",
   "metadata": {},
   "outputs": [],
   "source": [
    "a = 45\n",
    "b = 85\n",
    "c = str(a)\n",
    "d = str(b)\n",
    "e = c+d\n",
    "print(e)"
   ]
  },
  {
   "cell_type": "code",
   "execution_count": null,
   "id": "55a1707b-b385-4f59-a881-f5c1488cfe89",
   "metadata": {},
   "outputs": [],
   "source": [
    "\n",
    "a = input(\"designation\")\n",
    "b = input(\"disease\")\n",
    "c = input(\"days\")\n",
    "d = input(\"name\")\n",
    "email_template = f\"\"\"\n",
    "Respected Sir\n",
    "I from {a} department is suffering from {b}. I request you to allow me leave for {c} days.\n",
    "\n",
    "Yours faithfully,\n",
    "{d}\n",
    "\"\"\"\n",
    "print(email_template)\n"
   ]
  },
  {
   "cell_type": "code",
   "execution_count": null,
   "id": "ade7029b-52e6-432e-ad05-098e76dc55f2",
   "metadata": {},
   "outputs": [],
   "source": [
    "p =float(input(\"amount\"))\n",
    "r =float(input(\"rate\"))\n",
    "t =float(input(\"time\"))\n",
    "a =p*r*t/100\n",
    "print(\"The simple interest amount is\", a)\n"
   ]
  },
  {
   "cell_type": "code",
   "execution_count": null,
   "id": "4d3cd3d1-590a-4e12-9bc8-00d2fd4bda08",
   "metadata": {},
   "outputs": [],
   "source": [
    "#TO PRINT SOMETHING IN TEXT DATA\n",
    "print(\"HELLO WORLD\")"
   ]
  },
  {
   "cell_type": "code",
   "execution_count": null,
   "id": "80fd537c-50a2-4be2-aaf2-56dbf2467d44",
   "metadata": {},
   "outputs": [],
   "source": [
    "#TO PRINT SOMETHING IN NUMERIC DATA\n",
    "print(27)"
   ]
  },
  {
   "cell_type": "code",
   "execution_count": null,
   "id": "d654ff84-cbbe-4056-add9-3f286a7e2481",
   "metadata": {},
   "outputs": [],
   "source": [
    "#TO PRINT SOMETHING IN TEXT DATA where the text has multiple quotations\n",
    "print('HELLO WORLD')"
   ]
  },
  {
   "cell_type": "code",
   "execution_count": null,
   "id": "bd974747-9b5a-46ea-b16d-7d76620f8c15",
   "metadata": {},
   "outputs": [],
   "source": [
    "print('''HELLO WORLD''')"
   ]
  },
  {
   "cell_type": "code",
   "execution_count": null,
   "id": "248b5bcd-9eb2-4fc5-b0a9-ae8200b47f5e",
   "metadata": {},
   "outputs": [],
   "source": [
    "#TO PRINT IN NEXT LINE\n",
    "print(\"My name is Sanskriti.\\nI live in Kolkata.\\nI like to dance\")"
   ]
  },
  {
   "cell_type": "code",
   "execution_count": null,
   "id": "861b21d9-08bd-4d1e-a3da-9b06c94cf308",
   "metadata": {},
   "outputs": [],
   "source": [
    "#TO PRINT IN NEXT TAB\n",
    "print(\"My name is Sanskriti.\\t I live in Kolkata.\\t I like to dance\")"
   ]
  },
  {
   "cell_type": "code",
   "execution_count": null,
   "id": "c395c723-a9d1-44d4-af99-5c0d63a0c000",
   "metadata": {},
   "outputs": [],
   "source": [
    "#TO ASSIGN AN INTEGER TO A STRING DATA\n",
    "a = 5\n",
    "b = 6\n",
    "print(a)\n",
    "print(b)"
   ]
  },
  {
   "cell_type": "code",
   "execution_count": null,
   "id": "eb594aaa-6512-4f1c-a820-59578b51c076",
   "metadata": {},
   "outputs": [],
   "source": [
    "#TO ASSIGN AN INTEGER TO A STRING DATA BY ASSIGNING NEW VALUES\n",
    "a = 23\n",
    "b = 2\n",
    "a = 22\n",
    "print(a)\n",
    "print(b)"
   ]
  },
  {
   "cell_type": "code",
   "execution_count": null,
   "id": "0c75a4fd-999b-4d94-bfe8-93f7afd60549",
   "metadata": {},
   "outputs": [],
   "source": [
    "#TO ASSIGN A STRING TO STRING\n",
    "a =\"Sanskriti\"\n",
    "b = \"Jaiswal\"\n",
    "print(a,b)"
   ]
  },
  {
   "cell_type": "code",
   "execution_count": null,
   "id": "5c3635ab-8ff5-4739-9c3c-a3959d793e87",
   "metadata": {},
   "outputs": [],
   "source": [
    "#TO ASSIGN STRING TO STRING AND THEN PRINTING IT TOGETHER\n",
    "a = 'Sanskriti'\n",
    "b = 'Jaiswal'\n",
    "c = f\"MY NAME IS {a} {b}\"\n",
    "d = print(c)"
   ]
  },
  {
   "cell_type": "code",
   "execution_count": null,
   "id": "a4666c9d-3cd0-4403-9671-71bf6edb67a8",
   "metadata": {},
   "outputs": [],
   "source": [
    "a = 23\n",
    "b = f\" I am {a} years old.\"\n",
    "print(b)"
   ]
  },
  {
   "cell_type": "code",
   "execution_count": null,
   "id": "97d2cc14-70b1-4722-853d-0d3f66184684",
   "metadata": {},
   "outputs": [],
   "source": [
    "a = \"Sanskriti\"\n",
    "b = \"Kolkata\"\n",
    "c = \"Cooking\"\n",
    "d = f\"My name is {a}.\\nI live in {b}.\\nI like {c}.\"\n",
    "print(d)"
   ]
  },
  {
   "cell_type": "code",
   "execution_count": null,
   "id": "4335497a-3477-48e3-9c73-7d17a00ce4c7",
   "metadata": {},
   "outputs": [],
   "source": [
    "import math\n",
    "math.pi\n"
   ]
  },
  {
   "cell_type": "code",
   "execution_count": null,
   "id": "7d9a12d3-afd7-444b-8f6e-a0f7dde8e600",
   "metadata": {},
   "outputs": [],
   "source": [
    "math.sqrt(81)"
   ]
  },
  {
   "cell_type": "code",
   "execution_count": null,
   "id": "cc48e836-0797-4119-9b83-eca50f00b579",
   "metadata": {},
   "outputs": [],
   "source": [
    "#TO REPLACE MATH.FLOOR AND MATH.CEIL \n",
    "num = float(input(\"ENTER THE NUMBER\"))\n",
    "\n",
    "\n",
    "floor = int(num)\n",
    "ceil = floor+1\n",
    "print(floor)\n",
    "print(ceil)\n",
    "\n",
    "\n"
   ]
  },
  {
   "cell_type": "code",
   "execution_count": null,
   "id": "d7f3c3bc-16af-455c-819b-468966c19a85",
   "metadata": {},
   "outputs": [],
   "source": [
    "#STRING INDEXING"
   ]
  },
  {
   "cell_type": "code",
   "execution_count": null,
   "id": "4c92c563-2be8-4fc1-b980-ad7b3fc09814",
   "metadata": {},
   "outputs": [],
   "source": [
    "#TO FIND THE MIDDLE VALUE OF A STRING FROM USER INPUT VALUE\n",
    "a = input()\n",
    "len_ = len(a)\n",
    "middle = int(len_/2)\n",
    "MID =int(middle/2)\n",
    "print(a[MID])\n"
   ]
  },
  {
   "cell_type": "code",
   "execution_count": null,
   "id": "e393eacd-abef-40be-81b3-f7b09bca70fe",
   "metadata": {},
   "outputs": [],
   "source": [
    "#FORWARD INDEX\n",
    "a =\"DATA ANALYTICS\"\n",
    "print(a[0:5])\n"
   ]
  },
  {
   "cell_type": "code",
   "execution_count": null,
   "id": "a34082fa-d823-44b4-8d61-fb46e2631472",
   "metadata": {},
   "outputs": [],
   "source": [
    "#LENGTH OF A\n",
    "len(a)"
   ]
  },
  {
   "cell_type": "code",
   "execution_count": null,
   "id": "8701ce82-413c-4f2d-b846-b1fb3f3a680c",
   "metadata": {},
   "outputs": [],
   "source": [
    "#backward index\n",
    "a= \"PYTHON IS A PROGRAMMING LANGUAGE\"\n",
    "(a[-21:])"
   ]
  },
  {
   "cell_type": "code",
   "execution_count": null,
   "id": "f324a795-3df8-40f9-b46c-d4a5e5fc51b0",
   "metadata": {},
   "outputs": [],
   "source": [
    "#USING POSITIVE AND NEGATIVE TOGETHER\n",
    "print(a[7:-1])"
   ]
  },
  {
   "cell_type": "code",
   "execution_count": null,
   "id": "4a67e7df-af55-4013-8faa-c4805ed12e4f",
   "metadata": {},
   "outputs": [],
   "source": [
    "#USING POSITIVE AND NEGATIVE TOGETHER BY INVADING NUMBER IN BETWEEN\n",
    "print (a[7:-20] + a[-8:])\n"
   ]
  },
  {
   "cell_type": "code",
   "execution_count": null,
   "id": "ca8b36e4-a228-45be-bf6b-1e96b92c702d",
   "metadata": {},
   "outputs": [],
   "source": [
    "a= \"pyhton is a good language\"\n",
    "print (a[-10:-22:-1])"
   ]
  },
  {
   "cell_type": "code",
   "execution_count": null,
   "id": "27a0fd49-90f0-4d45-a8ac-29cce20b4bda",
   "metadata": {},
   "outputs": [],
   "source": [
    "#STRING METHOD\n",
    "a.upper()\n"
   ]
  },
  {
   "cell_type": "code",
   "execution_count": null,
   "id": "b286bf90-7d6d-4d45-9797-1d63b498986e",
   "metadata": {},
   "outputs": [],
   "source": [
    "a.lower()"
   ]
  },
  {
   "cell_type": "code",
   "execution_count": null,
   "id": "f74cd610-24a1-49f9-b49c-2d37f316f96a",
   "metadata": {},
   "outputs": [],
   "source": [
    "a.isalpha()"
   ]
  },
  {
   "cell_type": "code",
   "execution_count": null,
   "id": "d580a917-3a35-4ec2-b69f-4b8faac72558",
   "metadata": {},
   "outputs": [],
   "source": [
    "\"python\".isalpha()"
   ]
  },
  {
   "cell_type": "code",
   "execution_count": null,
   "id": "b6da3870-d527-4681-8d9c-190943d12a8b",
   "metadata": {},
   "outputs": [],
   "source": [
    "\"red45h\".isalnum()"
   ]
  },
  {
   "cell_type": "code",
   "execution_count": null,
   "id": "cc5431b0-cb96-4cbe-8c0a-26ae29122bd6",
   "metadata": {},
   "outputs": [],
   "source": [
    "\"852\".isnumeric()"
   ]
  },
  {
   "cell_type": "code",
   "execution_count": null,
   "id": "125ef058-bd41-4869-be85-cccbed2113b7",
   "metadata": {},
   "outputs": [],
   "source": [
    "print(a)"
   ]
  },
  {
   "cell_type": "code",
   "execution_count": null,
   "id": "3a48bc85-b2b4-494c-9509-320a80ea96f5",
   "metadata": {},
   "outputs": [],
   "source": [
    "#for multiple alphabets first index is given\n",
    "a.index(\"good\")"
   ]
  },
  {
   "cell_type": "code",
   "execution_count": null,
   "id": "1d856c51-ff91-4797-af5a-36cc4cf4a932",
   "metadata": {},
   "outputs": [],
   "source": [
    "#FIND() WORKS SAME AS INDEX()\n",
    "a.find(\"g\")"
   ]
  },
  {
   "cell_type": "code",
   "execution_count": null,
   "id": "6c690fcd-f654-4c14-a02c-ca059ebbb024",
   "metadata": {},
   "outputs": [],
   "source": [
    "a"
   ]
  },
  {
   "cell_type": "code",
   "execution_count": null,
   "id": "22ed1028-158b-49d8-a28e-df0b25d12155",
   "metadata": {},
   "outputs": [],
   "source": [
    "a.count(\"language\")"
   ]
  },
  {
   "cell_type": "code",
   "execution_count": null,
   "id": "3587261a-17e9-4c45-b07b-ff7c381303b3",
   "metadata": {},
   "outputs": [],
   "source": [
    "a.count(\"is a\")"
   ]
  },
  {
   "cell_type": "code",
   "execution_count": null,
   "id": "79087eaa-ad67-4f50-b0f3-0bba672d2826",
   "metadata": {},
   "outputs": [],
   "source": [
    "a.replace(\"good\",\"programming\")"
   ]
  },
  {
   "cell_type": "code",
   "execution_count": null,
   "id": "88c62aee-e6a4-4392-abbd-4ae2549a445b",
   "metadata": {},
   "outputs": [],
   "source": [
    "print (a)"
   ]
  },
  {
   "cell_type": "code",
   "execution_count": null,
   "id": "ef3d1d1c-7e69-44e8-aff1-02fb438e8fbb",
   "metadata": {},
   "outputs": [],
   "source": [
    "True and True"
   ]
  },
  {
   "cell_type": "code",
   "execution_count": null,
   "id": "d699b2f0-1e69-45f2-87ea-2c63bee8be63",
   "metadata": {},
   "outputs": [],
   "source": [
    "True and False"
   ]
  },
  {
   "cell_type": "code",
   "execution_count": null,
   "id": "0cda9945-e6ce-4b3f-afed-bdbb7e6eacd3",
   "metadata": {},
   "outputs": [],
   "source": [
    "False and False"
   ]
  },
  {
   "cell_type": "code",
   "execution_count": null,
   "id": "989f57dc-6474-45a2-b304-dc944286259a",
   "metadata": {},
   "outputs": [],
   "source": [
    "True or True"
   ]
  },
  {
   "cell_type": "code",
   "execution_count": null,
   "id": "7519df89-c1b8-4e47-97fa-f6c89c07c6ec",
   "metadata": {},
   "outputs": [],
   "source": [
    "True or False"
   ]
  },
  {
   "cell_type": "code",
   "execution_count": null,
   "id": "a7ec2f4c-d57e-4c85-8c62-853e062c2bd7",
   "metadata": {},
   "outputs": [],
   "source": [
    "False or False"
   ]
  },
  {
   "cell_type": "code",
   "execution_count": null,
   "id": "294644a2-0d14-476d-8976-a3cf543865c8",
   "metadata": {},
   "outputs": [],
   "source": [
    "not True"
   ]
  },
  {
   "cell_type": "code",
   "execution_count": null,
   "id": "4b7a4e9b-64cc-4736-add9-1cf52611201f",
   "metadata": {},
   "outputs": [],
   "source": [
    "not False"
   ]
  },
  {
   "cell_type": "code",
   "execution_count": null,
   "id": "c9bf2a19-9a94-4a0a-807f-ed6cd3e37634",
   "metadata": {},
   "outputs": [],
   "source": [
    "#conditional operator\n",
    ">\n",
    "<\n",
    ">=\n",
    "<=\n",
    "==\n",
    "!=\n"
   ]
  },
  {
   "cell_type": "code",
   "execution_count": null,
   "id": "72a55bf4-2242-4318-b707-d912b104c4de",
   "metadata": {},
   "outputs": [],
   "source": [
    "a =5\n",
    "a !=10"
   ]
  },
  {
   "cell_type": "code",
   "execution_count": null,
   "id": "594aded2-125a-4055-a3bf-35317fef875f",
   "metadata": {},
   "outputs": [],
   "source": [
    "a = \"PYTHON IS A GOOD LANGUAGE\"\n",
    "if a.count(\" \") == 4:\n",
    "    print(\"YES STRING IS HAVING 4 SPACES\")\n",
    "else:\n",
    "    print(\"NO STRING IS NOT HAVING 4 SPACES\")\n",
    "\n"
   ]
  },
  {
   "cell_type": "code",
   "execution_count": null,
   "id": "18280166-a932-42ed-b077-afd3d4e5d58d",
   "metadata": {},
   "outputs": [],
   "source": [
    "a = 23\n",
    "if a>20:\n",
    "    print(\"ELIGIBLE TO VOTE\")\n",
    "else:\n",
    "    print(\"NOT ELIGIBLE TO VOTE\")\n",
    "    "
   ]
  },
  {
   "cell_type": "code",
   "execution_count": null,
   "id": "c0320893-21d3-4469-87d1-6ce5804a0621",
   "metadata": {},
   "outputs": [],
   "source": [
    "a = int(input(\"ENTER AGE\"))\n",
    "if a>20:\n",
    "    print(\"ELIGIBLE TO VOTE\")\n",
    "else:\n",
    "    print(\"NOT ELIGIBLE TO VOTE\")"
   ]
  },
  {
   "cell_type": "code",
   "execution_count": null,
   "id": "f1f3770b-deba-4a11-8cd4-44d8844a0102",
   "metadata": {},
   "outputs": [],
   "source": [
    "a = float(input(\"ENTER A NUMBER\"))\n",
    "if a%2==0:\n",
    "    print(\"EVEN\")\n",
    "else:\n",
    "    print(\"FALSE\")\n"
   ]
  },
  {
   "cell_type": "code",
   "execution_count": null,
   "id": "e5f9cf00-ff2a-48ec-b86d-476590533044",
   "metadata": {},
   "outputs": [],
   "source": [
    "#multiple conditions in a program\n",
    "a =float(input(\"ENTER A NUMBER\"))\n",
    "\n",
    "if a > 0:\n",
    "    print(f\"{a} IT IS A POSITIVE NUMBER\")\n",
    "elif a < 0:\n",
    "    print(f\"{a} IT IS A NEGETIVE NUMBER\")\n",
    "else :\n",
    "      print(f\"{a} IT IS EQUAL TO 0\")\n",
    "    "
   ]
  },
  {
   "cell_type": "code",
   "execution_count": null,
   "id": "7fe801a2-e866-4f57-8e96-88e722462911",
   "metadata": {},
   "outputs": [],
   "source": [
    "#multiple conditions in a program\n",
    "a =float(input(\"ENTER A NUMBER\"))\n",
    "\n",
    "if a > 0:\n",
    "    print(f\"{a} IT IS A POSITIVE NUMBER\")\n",
    "elif a < 0:\n",
    "    print(f\"{a} IT IS A NEGETIVE NUMBER\")\n",
    "elif a == 0:\n",
    "      print(f\"{a} IT IS EQUAL TO 0\")"
   ]
  },
  {
   "cell_type": "code",
   "execution_count": null,
   "id": "25d78480-ded5-4ebe-a7c6-7ed1d646f983",
   "metadata": {},
   "outputs": [],
   "source": [
    "#take marks of a subject from user\n",
    " input more than 90 than A+\n",
    "input more than 80 than less than 90 A\n",
    "input more than 70 than less than 80 B+\n",
    "input more than 60 than less than 70 C\n",
    "input less than 60 than less than 70 C\n",
    "less than 60 D\n",
    "     \n",
    "\n"
   ]
  },
  {
   "cell_type": "code",
   "execution_count": null,
   "id": "751ba841-b1ba-4464-b916-4c10424f1634",
   "metadata": {},
   "outputs": [],
   "source": [
    "a =float(input(\"ENTER THE MARKS\"))\n",
    "\n",
    "if a >= 90:\n",
    "    print(\"A+\")\n",
    "elif a >= 80:\n",
    "        print(\"A\")\n",
    "elif a >= 70:\n",
    "        print(\"B\")\n",
    "elif a>= 60:\n",
    "    print(\"C\")\n",
    "else:\n",
    "    print(\"D\")\n",
    "    \n"
   ]
  },
  {
   "cell_type": "code",
   "execution_count": null,
   "id": "0f35559e-1aa7-43b7-a544-2dbf2628899a",
   "metadata": {},
   "outputs": [],
   "source": [
    "a =float(input(\"ENTER THE MARKS\"))\n",
    "\n",
    "if a >= 90:\n",
    "    print(\"A+\")\n",
    "elif a >= 80:\n",
    "        print(\"A\")\n",
    "elif a >= 70:\n",
    "        print(\"B\")\n",
    "elif a>= 60:\n",
    "    print(\"C\")\n",
    "elif a < 60:\n",
    "    print(\"D\")"
   ]
  },
  {
   "cell_type": "code",
   "execution_count": null,
   "id": "4c74efcc-a91a-4b4b-93e7-d516d565459e",
   "metadata": {},
   "outputs": [],
   "source": [
    "#boolean operator with conditional operator\n",
    "\n",
    "a = 5\n",
    "b = -7\n",
    "\n",
    "if a>0 and b>0:\n",
    "    print(\"BOTH ARE POSITIVE\")\n",
    "elif a>0 and b<0:\n",
    "        print(f\"{a} is POSITIVE BUT {b} is NEGETIVE\")\n",
    "\n",
    "\n",
    "\n",
    "    "
   ]
  },
  {
   "cell_type": "code",
   "execution_count": null,
   "id": "be0691b1-3350-47a4-b5db-f0718209e2ee",
   "metadata": {},
   "outputs": [],
   "source": [
    "#PALINDROME THAT IS REVERSE CHECK BY USER INPUT\n",
    "\n",
    "x=input(\"ENTER PALINDROME\")\n",
    "\n",
    "if x==x[::-1]:\n",
    "    print(\"PALINDROME\")\n",
    "else:\n",
    "    print(\"NO PALINDROME\")"
   ]
  },
  {
   "cell_type": "code",
   "execution_count": null,
   "id": "96029a5b-035a-44bf-ae8e-5ea6c88c400f",
   "metadata": {},
   "outputs": [],
   "source": [
    "#PRACTICE "
   ]
  },
  {
   "cell_type": "code",
   "execution_count": null,
   "id": "51b62cc3-e831-4e2b-93f8-8a473ed30bc3",
   "metadata": {},
   "outputs": [],
   "source": [
    "a = [1,2,3,4,5,6,7,8,9,10]\n",
    "a[::2]\n"
   ]
  },
  {
   "cell_type": "code",
   "execution_count": null,
   "id": "038326f7-a6cd-4fa3-a0ca-965ba0526fb4",
   "metadata": {},
   "outputs": [],
   "source": [
    "a = [1,2,3,4,5,6,7,8,9,10]\n",
    "a[::4]\n"
   ]
  },
  {
   "cell_type": "code",
   "execution_count": null,
   "id": "a28d2063-5fcc-4e2a-91ae-fae9350bba0f",
   "metadata": {},
   "outputs": [],
   "source": [
    "a = [1,2,3,4,5,6,7,8,9,10]\n",
    "a[1::2]"
   ]
  },
  {
   "cell_type": "code",
   "execution_count": null,
   "id": "49fb5b47-d610-4646-b245-be051f16711d",
   "metadata": {},
   "outputs": [],
   "source": [
    "a = [1,2,3,4,5,6,7,8,9,10]\n",
    "a[1::4]"
   ]
  },
  {
   "cell_type": "code",
   "execution_count": null,
   "id": "dd40e2b6-a366-4c8b-bbd4-75a11a0c4623",
   "metadata": {},
   "outputs": [],
   "source": [
    "#WHEN ITS A USER INPUT\n",
    "a = [1,2,3,4,5,6,7,8,9,10]\n",
    "a[3]=a[3]**3\n",
    "a[4]=a[4]**3\n",
    "print(a)"
   ]
  },
  {
   "cell_type": "code",
   "execution_count": null,
   "id": "499b1059-1ae0-4db8-b092-e51de70fe2ba",
   "metadata": {},
   "outputs": [],
   "source": [
    "#WHEN ARRAY IS KNOWN\n",
    "a = [1,2,3,4,5,6,7,8,9,10]\n",
    "a[3]=4**3\n",
    "a[4]=5**3\n",
    "print(a)"
   ]
  },
  {
   "cell_type": "code",
   "execution_count": null,
   "id": "ef287dc2-0ea2-41db-ab4f-35a4edd7511d",
   "metadata": {},
   "outputs": [],
   "source": [
    "#WHEN ITS AN ARRAY \n",
    "a = [1,2,3,4,5]\n",
    "a[4]=6\n",
    "print (a)\n"
   ]
  },
  {
   "cell_type": "code",
   "execution_count": null,
   "id": "ab2aa91d-fd90-4617-b603-60d10fd3bbc2",
   "metadata": {},
   "outputs": [],
   "source": [
    "#WHEN IT IS JUST STRING \n",
    "a = (1,2,3,4,5)\n",
    "b =list(a)\n",
    "b[-1]=6\n",
    "a =tuple(b)\n",
    "print (a)\n"
   ]
  },
  {
   "cell_type": "code",
   "execution_count": null,
   "id": "03a13db2-7214-4657-91ad-e30f82261bd9",
   "metadata": {},
   "outputs": [],
   "source": [
    "a = (1,2,3,4,5,6)\n",
    "b =list(a)\n",
    "l=b[:3]+[8,9,10,11,12]+b[3:]\n",
    "print(l)"
   ]
  },
  {
   "cell_type": "code",
   "execution_count": null,
   "id": "1377cb0b-56d0-4256-895c-de1e8b14e98d",
   "metadata": {},
   "outputs": [],
   "source": [
    "a = (input(\"ENTER NUMBER\"))\n",
    "b = str(int(a[0])**3 + int(a[1])**3 + int(a[2])**3)\n",
    "if  a == b:\n",
    "    print(\"IT IS A AMSTRONG NUMBER\")\n",
    "else:\n",
    "    print(\"NOT AN AMSTRONG\")"
   ]
  },
  {
   "cell_type": "code",
   "execution_count": null,
   "id": "e2b4134e-6b1c-4c26-a5a0-14df41ceb69d",
   "metadata": {},
   "outputs": [],
   "source": [
    "a = int(input(\"ENTER NUMBER\"))\n",
    "b = str(a)\n",
    "if int(b[-1])%2==0:\n",
    "    print(\"EVEN\")\n",
    "else:\n",
    "    print(\"not EVEN\")"
   ]
  },
  {
   "cell_type": "code",
   "execution_count": null,
   "id": "15d51cd2-1dcd-49d5-a9ed-a30cba6a1b3c",
   "metadata": {},
   "outputs": [],
   "source": [
    "a =input(\"enter data\")\n",
    "if a.isnumeric():\n",
    "    a=int(a)\n",
    "    if a%2==0:\n",
    "        print(\"EVEN\")\n",
    "    else:\n",
    "        print(\"ODD\")\n",
    "else:\n",
    "    print(\"ENTER DATA IN NUMBER\")"
   ]
  },
  {
   "cell_type": "code",
   "execution_count": null,
   "id": "4d4ef2e7-8f91-4224-adfc-87642830010c",
   "metadata": {},
   "outputs": [],
   "source": [
    "a =int(input(\"ENTER  NUMBER\"))\n",
    "b =int(input(\"ENTER  NUMBER\"))\n",
    "c =int(input(\"ENTER  NUMBER\"))\n",
    "if a>b and a>c:\n",
    "    print(\"A IS MAX\")\n",
    "elif b>a and b>c:\n",
    "    print(\"B IS MAX\")\n",
    "else:\n",
    "    print(\"C IS MAX\")\n",
    "   \n",
    "if a<b and a<c:\n",
    "    print(\"A IS MIN\")\n",
    "elif b<a and b<c:\n",
    "    print(\"B IS MIN\")\n",
    "else:\n",
    "    print(\"C IS MIN\")\n"
   ]
  },
  {
   "cell_type": "code",
   "execution_count": null,
   "id": "336b6db7-0dc2-4a08-ba74-71588aeac908",
   "metadata": {},
   "outputs": [],
   "source": [
    "a =int(input(\"ENTER NUMBER\"))\n",
    "if a%5==0 and a%3==0:\n",
    "    print(\"GREEN\")\n",
    "else:\n",
    "    print(\"NOT DIVISIBLE\")\n",
    "    "
   ]
  },
  {
   "cell_type": "code",
   "execution_count": null,
   "id": "ca6e843b-bf87-4eae-8bc0-6434ce84ba36",
   "metadata": {},
   "outputs": [],
   "source": [
    "a =[3,8,85,8]\n",
    "type(a)"
   ]
  },
  {
   "cell_type": "code",
   "execution_count": null,
   "id": "decd4e10-8b00-42e9-83c5-e125f41bbc64",
   "metadata": {},
   "outputs": [],
   "source": [
    "a=[\"HELLO\"],[[\"SIR\",\"GOOD\"],[\"MORNING\"]]\n",
    "a[0]\n"
   ]
  },
  {
   "cell_type": "markdown",
   "id": "73d2f5ae-b512-4cb4-af1e-07471f9d9d26",
   "metadata": {},
   "source": [
    "a[1][0][1:]"
   ]
  },
  {
   "cell_type": "code",
   "execution_count": null,
   "id": "517d8f94-b9b9-4f95-83e3-0a2d8b929396",
   "metadata": {},
   "outputs": [],
   "source": [
    "a = \"vrtdgujbjkh\"\n",
    "a.split(\",\")\n",
    "list(a)"
   ]
  },
  {
   "cell_type": "code",
   "execution_count": null,
   "id": "5ed5881a-fb86-43d0-b74f-8a362727615a",
   "metadata": {},
   "outputs": [],
   "source": [
    "a =['v', 'r', 't', 'd', 'g', 'u', 'j', 'b', 'j', 'k', 'h']\n",
    "\"-\".join(a)\n",
    "\n"
   ]
  },
  {
   "cell_type": "code",
   "execution_count": null,
   "id": "633198f1-ac7a-4bf7-a069-b4552a5e6bd3",
   "metadata": {},
   "outputs": [],
   "source": [
    "a =\"we-are-doing-data\"\n",
    "a.split(\"-\")\n",
    "b=a[6:]\n",
    "c=\" \".join(b)\n",
    "print(c)"
   ]
  },
  {
   "cell_type": "code",
   "execution_count": null,
   "id": "6885e472-f374-409e-9db9-375cecd1f34b",
   "metadata": {},
   "outputs": [],
   "source": [
    "a =[1,3,8,5]\n",
    "a.extend([1,2,3,4])\n",
    "print(a)"
   ]
  },
  {
   "cell_type": "code",
   "execution_count": null,
   "id": "492132f0-dad6-4bfe-8f9f-87fdf8b468ee",
   "metadata": {},
   "outputs": [],
   "source": [
    "a.append(\"vgujn\")\n",
    "print(a)"
   ]
  },
  {
   "cell_type": "code",
   "execution_count": null,
   "id": "6c1e523e-66fc-46bf-b9ac-98965141ecf4",
   "metadata": {},
   "outputs": [],
   "source": [
    "a = [578678689]\n",
    "b = [68789]\n",
    "c=a+b\n",
    "print(c)"
   ]
  },
  {
   "cell_type": "code",
   "execution_count": null,
   "id": "b924a54a-4ebc-43ca-b799-eb09b998b982",
   "metadata": {},
   "outputs": [],
   "source": [
    "a =[5,789,3,78,7]\n",
    "a.insert(3,\"ggkjhk,\")\n",
    "a"
   ]
  },
  {
   "cell_type": "code",
   "execution_count": null,
   "id": "b6c9188c-96a6-446d-918c-20bc836eae2f",
   "metadata": {},
   "outputs": [],
   "source": [
    "import math"
   ]
  },
  {
   "cell_type": "code",
   "execution_count": null,
   "id": "9e15d90b-4e5d-470f-8aa2-0c02cfc16d9c",
   "metadata": {},
   "outputs": [],
   "source": [
    "math.pi"
   ]
  },
  {
   "cell_type": "code",
   "execution_count": null,
   "id": "b43b00b0-808f-4665-a7dc-6acb4f9771be",
   "metadata": {},
   "outputs": [],
   "source": [
    "math.sqrt(81)"
   ]
  },
  {
   "cell_type": "code",
   "execution_count": null,
   "id": "533318e8-f504-4690-852a-2a3c976944b3",
   "metadata": {},
   "outputs": [],
   "source": [
    "a=int(input(\"number1\"))\n",
    "b=int(input(\"number2\"))\n",
    "c=int(input(\"number3\"))\n",
    "max_=max(a,b,c)\n",
    "min_=min(a,b,c)\n",
    "print(max_)\n",
    "print(min_)\n"
   ]
  },
  {
   "cell_type": "code",
   "execution_count": null,
   "id": "ddb15201-056d-420c-ba16-0c87d4e43f17",
   "metadata": {},
   "outputs": [],
   "source": [
    "#leap year\n",
    "a=int(input(\"Enter a year\"))\n",
    "if (a%4==0 and a%100!=0):\n",
    "    print(f\"{a} is a leap year\")\n",
    "else:\n",
    "    print(f\"{a} is not a leap year\")"
   ]
  },
  {
   "cell_type": "code",
   "execution_count": null,
   "id": "c12d1ac2-d29f-42f7-9d27-aae6a80f202c",
   "metadata": {},
   "outputs": [],
   "source": [
    "a_=input(\"Enter an alphabet\")\n",
    "if (a_== \"a,e,i,o,u,A,E,I,O,U\"):\n",
    "    print(\"vowel\")\n",
    "else:\n",
    "    print(\"not vowel\")"
   ]
  },
  {
   "cell_type": "code",
   "execution_count": null,
   "id": "7fc415be-1497-43b6-9278-f05cb12caac8",
   "metadata": {},
   "outputs": [],
   "source": [
    "a=\"we-are-doing-course\"\n",
    "b=a.split(\"-\")\n",
    "b=b[2:]\n",
    "c=\" \".join(b)\n",
    "print(c)"
   ]
  },
  {
   "cell_type": "code",
   "execution_count": null,
   "id": "c41bbeaa-3c7b-4636-9818-0f37b0afe0a9",
   "metadata": {},
   "outputs": [],
   "source": [
    "a=\"we-are-doing-course\"\n",
    "b=a.replace(\"-\",\" \")\n",
    "print(b)"
   ]
  },
  {
   "cell_type": "code",
   "execution_count": null,
   "id": "02de407b-3645-463d-9652-b0dd99f3deab",
   "metadata": {},
   "outputs": [],
   "source": [
    "a=[1,2,3,4,5,6]\n",
    "b=a.append(\"7,8,9\")"
   ]
  },
  {
   "cell_type": "code",
   "execution_count": null,
   "id": "ad4151b8-12f9-4efc-b6d1-5437735d3841",
   "metadata": {},
   "outputs": [],
   "source": [
    "print(a)"
   ]
  },
  {
   "cell_type": "code",
   "execution_count": null,
   "id": "f980b8e8-e92d-45bc-9560-455effe9500e",
   "metadata": {},
   "outputs": [],
   "source": [
    "\n",
    "a=[1,2,3,4,5,6]\n",
    "b=a.extend([7,8,9])\n",
    "print(a)"
   ]
  },
  {
   "cell_type": "code",
   "execution_count": null,
   "id": "4db18600-a201-4b42-a824-2991fc9ba97f",
   "metadata": {},
   "outputs": [],
   "source": [
    "a=[1,2,3,4,5]\n",
    "b=a.insert(1,4)\n",
    "print(a)"
   ]
  },
  {
   "cell_type": "code",
   "execution_count": null,
   "id": "8e6cd6a8-0c47-4e47-9b82-5ee8ed5a561f",
   "metadata": {},
   "outputs": [],
   "source": [
    "a.pop(3)"
   ]
  },
  {
   "cell_type": "code",
   "execution_count": null,
   "id": "50859a8f-774a-4a75-afd4-3bebb3f14521",
   "metadata": {},
   "outputs": [],
   "source": [
    "a"
   ]
  },
  {
   "cell_type": "code",
   "execution_count": null,
   "id": "61b2e271-7bf3-4b42-9961-25526f107771",
   "metadata": {},
   "outputs": [],
   "source": [
    "b=a.reverse()\n",
    "print(a)"
   ]
  },
  {
   "cell_type": "code",
   "execution_count": null,
   "id": "eee68722-5913-432b-8dea-3ec5ebf7ea60",
   "metadata": {},
   "outputs": [],
   "source": [
    "b=a.sort()\n",
    "print(a)"
   ]
  },
  {
   "cell_type": "code",
   "execution_count": null,
   "id": "36859900-502a-42b2-8816-74637f33c27a",
   "metadata": {},
   "outputs": [],
   "source": [
    "b=a.sort(reverse=True)\n",
    "print(a)"
   ]
  },
  {
   "cell_type": "code",
   "execution_count": null,
   "id": "663a3712-6a4e-4d3d-842d-2f63dd068a7f",
   "metadata": {},
   "outputs": [],
   "source": [
    "a=[1,2,3,4,5,6,7,8,9]\n",
    "a[::2]"
   ]
  },
  {
   "cell_type": "code",
   "execution_count": null,
   "id": "5f51dda6-5ecf-4b4f-9c1e-60c329653ef3",
   "metadata": {},
   "outputs": [],
   "source": [
    "a=[1,2,3,4,5,6,7,8,9]\n",
    "a[1::2]"
   ]
  },
  {
   "cell_type": "code",
   "execution_count": null,
   "id": "c753c694-10b4-49a4-b8cc-7c15a6b69d7b",
   "metadata": {},
   "outputs": [],
   "source": [
    "a=[1,2,3,4,5,6,7,8,9]\n",
    "a[3]=a[3]**3\n",
    "a[4]=a[4]**3\n",
    "a"
   ]
  },
  {
   "cell_type": "code",
   "execution_count": null,
   "id": "d82fd5dd-85aa-4001-8060-de52e8e07cca",
   "metadata": {},
   "outputs": [],
   "source": [
    "a=[1,2,3,4,5]\n",
    "b=list(a)\n",
    "b[-1]=6\n",
    "a=tuple(b)\n",
    "print(a)"
   ]
  },
  {
   "cell_type": "code",
   "execution_count": null,
   "id": "1040da13-a44d-41fb-a12c-5e7ffab92814",
   "metadata": {},
   "outputs": [],
   "source": [
    "a=[1,2,3,4,5]\n",
    "b=list(a)\n",
    "l=b[:3]+[8,9,10,11]+b[3:]\n",
    "a=tuple(l)\n",
    "print(a)\n"
   ]
  },
  {
   "cell_type": "code",
   "execution_count": null,
   "id": "c7ca6851-1941-4492-ae72-e9b0eebb980f",
   "metadata": {},
   "outputs": [],
   "source": [
    "Nums=List({1:'One',2:'Two'})\n",
    "print(Nums)"
   ]
  },
  {
   "cell_type": "code",
   "execution_count": null,
   "id": "f8c6a848-9353-4bb4-a33e-4a12a8654ad6",
   "metadata": {},
   "outputs": [],
   "source": [
    "a=[\"A\",\"B\",\"C\"]\n",
    "b=[1,2,3]\n",
    "index=a.index(\"B\")\n",
    "print(b[index])"
   ]
  },
  {
   "cell_type": "markdown",
   "id": "d86a54f7-8e4e-43f3-8b7b-d0e0784350dd",
   "metadata": {},
   "source": [
    "#for loop"
   ]
  },
  {
   "cell_type": "code",
   "execution_count": null,
   "id": "d2b928d4-5190-4f31-a3bb-dc6ac3536837",
   "metadata": {},
   "outputs": [],
   "source": [
    "a=[1,2,5,3,98,4,5,8,3,6]\n",
    "for i in a:\n",
    "    if i%2==0:\n",
    "        print(\"even\")\n",
    "    else:\n",
    "        (\"odd\")"
   ]
  },
  {
   "cell_type": "code",
   "execution_count": null,
   "id": "4dd3e88a-fb1a-447b-be55-57892d0967a2",
   "metadata": {},
   "outputs": [],
   "source": [
    "a=[1,2,5,3,98,4,5,8,3,6,5,8,7,2,41,96]\n",
    "b=a.copy()\n",
    "for i in a:\n",
    "    a.remove(i)\n",
    "    print(i)\n",
    "    print(a)\n",
    "    "
   ]
  },
  {
   "cell_type": "code",
   "execution_count": null,
   "id": "7f789156-9ab7-4ebc-b059-f39589e95e33",
   "metadata": {},
   "outputs": [],
   "source": [
    "a=[\"abba\",\"lppl\",\"lkjjkl\",\"yghj\"]\n",
    "for var in a:\n",
    "    if var==var[::-1]:\n",
    "        print(\"PALINDROME\")\n",
    "    else:\n",
    "        print(\"NOT PALINDROME\")\n",
    "        "
   ]
  },
  {
   "cell_type": "code",
   "execution_count": null,
   "id": "e0713f12-e7af-45f0-a675-ff8e64950582",
   "metadata": {},
   "outputs": [],
   "source": [
    "a=[\"abba\",\"lppl\",\"lkjjkl\",\"yghj\"]\n",
    "pal=[]\n",
    "not_pal=[]\n",
    "for var in a:\n",
    "    if var==var[::-1]:\n",
    "        print(\"PALINDROME\")\n",
    "        pal.append(i)\n",
    "    else:\n",
    "        print(\"NOT PALINDROME\")\n",
    "        not_pal.append(i)\n",
    "    print(\"PALINDROME\", pal,\"NOT PALINDROME\", not_pal) "
   ]
  },
  {
   "cell_type": "code",
   "execution_count": null,
   "id": "861f0cc9-c244-45d0-b482-fbaeae384178",
   "metadata": {},
   "outputs": [],
   "source": [
    "a=(\"123456987\")\n",
    "s=0\n",
    "for i in a:\n",
    "    s=s+int(i)\n",
    "    print(s)"
   ]
  },
  {
   "cell_type": "code",
   "execution_count": null,
   "id": "f6c37af7-dfce-44b2-8529-c8986dcaff7b",
   "metadata": {},
   "outputs": [],
   "source": [
    "a=(\"123456987\")\n",
    "s=0\n",
    "for i in a:\n",
    "    s=s+int(i)\n",
    "print(s)"
   ]
  },
  {
   "cell_type": "code",
   "execution_count": null,
   "id": "06570f31-1db9-49e1-9f86-37cd46e9a823",
   "metadata": {},
   "outputs": [],
   "source": [
    "a=(\"123456987\")\n",
    "p=1\n",
    "for i in a:\n",
    "    p=p*int(i)\n",
    "    print(p)"
   ]
  },
  {
   "cell_type": "code",
   "execution_count": null,
   "id": "aeca8c9a-f638-4a6c-aac1-ea49be446f08",
   "metadata": {},
   "outputs": [],
   "source": [
    "a=(\"123456987\")\n",
    "p=1\n",
    "for i in a:\n",
    "    p=p*int(i)\n",
    "print(p)"
   ]
  },
  {
   "cell_type": "code",
   "execution_count": null,
   "id": "b7b24ee7-e51d-4881-aff3-8c5699c0db91",
   "metadata": {},
   "outputs": [],
   "source": [
    "a=[\"A\",\"B\",\"C\"]\n",
    "for i in range(len(a)):\n",
    "    print(i)"
   ]
  },
  {
   "cell_type": "code",
   "execution_count": null,
   "id": "34b65840-7482-48be-b15b-b2c3b6a7ef07",
   "metadata": {},
   "outputs": [],
   "source": [
    "a=[1,2,3,4,5,6]\n",
    "for i in range(len(a)):\n",
    "    a[i]=a[i]*3\n",
    "    print(a)"
   ]
  },
  {
   "cell_type": "code",
   "execution_count": null,
   "id": "9e9b0e7c-cbfc-4e02-a23d-40eb4074c664",
   "metadata": {},
   "outputs": [],
   "source": [
    "a=[4,65,25,36,9846,52,1,66]\n",
    "for i in range(len(a)):\n",
    "    a[i]=a[i]*3\n",
    "print(a)"
   ]
  },
  {
   "cell_type": "code",
   "execution_count": null,
   "id": "5ce6f5ad-589c-4267-9fd8-c082c1b8d40b",
   "metadata": {},
   "outputs": [],
   "source": [
    "a=4\n",
    "m=1\n",
    "for i in range(1,int(a+1)):\n",
    "    m=m*i\n",
    "    print(m)"
   ]
  },
  {
   "cell_type": "code",
   "execution_count": null,
   "id": "4f88a4f3-8ff0-498e-9bcf-b1a8bdac1ff9",
   "metadata": {},
   "outputs": [],
   "source": [
    "a=int(input(\"ENTER THE LENGTH\"))\n",
    "temp_list=[]\n",
    "for i in range(a):\n",
    "    value=input(\"Enter the element\")\n",
    "    temp_list.append(value)\n",
    "    print(temp_list)"
   ]
  },
  {
   "cell_type": "code",
   "execution_count": null,
   "id": "5a095211-12f8-45c8-b280-6f84305a1561",
   "metadata": {},
   "outputs": [],
   "source": [
    "length=int(input(\"Enter the length of the list\"))\n",
    "key_list=[]\n",
    "value_list=[]\n",
    "for i in range(length):\n",
    "    key=input(\"enter the key\")\n",
    "    value=input(\"enter value\")\n",
    "    key_list.append(key)\n",
    "    value_list.append(value)\n",
    "dict(zip(key_list,value_list))\n"
   ]
  },
  {
   "cell_type": "code",
   "execution_count": null,
   "id": "3009bc08-6034-4c32-8ea0-c3d024b95026",
   "metadata": {},
   "outputs": [],
   "source": [
    "a=input(\"enter a number\")\n",
    "s=0\n",
    "for i in a:\n",
    "    s=s+int(i)*3\n",
    "if a==str(s):\n",
    "    print(\"AMSTRONG\")\n",
    "else:\n",
    "    print(\"NOT AMSTRONG\")"
   ]
  },
  {
   "cell_type": "code",
   "execution_count": null,
   "id": "e7024859-67dd-405d-bdec-89009788dc9e",
   "metadata": {},
   "outputs": [],
   "source": [
    "no_list=[\"153\",\"370\",\"371\",\"256\",\"456\",\"789\"]\n",
    "ams=[]\n",
    "no_ams=[]\n",
    "for number in no_list:\n",
    "    s=0\n",
    "    for i in number:\n",
    "        s=s+int(i)*3\n",
    "if number==str(s):\n",
    "    ams.append(number)\n",
    "else:\n",
    "    no_ams.append(number)\n",
    "print(ams,no_ams)"
   ]
  },
  {
   "cell_type": "code",
   "execution_count": null,
   "id": "9512d4a2-a2b6-4ba6-b6f6-5f1109ff72ae",
   "metadata": {},
   "outputs": [],
   "source": [
    "number=int(input(\"enter number\"))\n",
    "flag=0\n",
    "for i in range(2,number):\n",
    "    if number%i==0:\n",
    "        flag=1\n",
    "        break\n",
    "    else:\n",
    "        continue\n",
    "if flag ==0:\n",
    "    print(\"prime\")\n",
    "else:\n",
    "    print(\"not prime\")"
   ]
  },
  {
   "cell_type": "raw",
   "id": "4e0ee6e9-51ae-47c1-88bc-afac38f6da39",
   "metadata": {},
   "source": [
    "##BREAK AND CONTINUE"
   ]
  },
  {
   "cell_type": "code",
   "execution_count": null,
   "id": "54db3201-70c8-4d69-aa69-2bae3238bcea",
   "metadata": {},
   "outputs": [],
   "source": [
    "a=[1,2,3,4,5,6]\n",
    "for i in a:\n",
    "    if i>=5:\n",
    "        break\n",
    "    else:\n",
    "        print(i)\n",
    "print(\"out\")"
   ]
  },
  {
   "cell_type": "code",
   "execution_count": null,
   "id": "ce6e5ff8-7d9d-471c-9715-3d11b4c3be98",
   "metadata": {},
   "outputs": [],
   "source": [
    "a=[1,2,3,4,5,6]\n",
    "for i in a:\n",
    "    if i>=5:\n",
    "     continue\n",
    "    else:\n",
    "        print(i)\n",
    "print(\"out\")"
   ]
  },
  {
   "cell_type": "code",
   "execution_count": null,
   "id": "94d751f3-dbff-4eb5-811e-ad76cf44eabf",
   "metadata": {},
   "outputs": [],
   "source": [
    "number = int(input(\"ENTER NUMBER\"))\n",
    "flag=0\n",
    "for i in range(2,number):\n",
    "    if number%i==0:\n",
    "     flag=1\n",
    "     break\n",
    "    else:\n",
    "     continue\n",
    "if flag==0:\n",
    "    print(\"Prime number\")\n",
    "else:\n",
    "    print(\"Not prime\")"
   ]
  },
  {
   "cell_type": "code",
   "execution_count": null,
   "id": "63dd68ef-8dcb-4c71-83e0-c2838847c29c",
   "metadata": {},
   "outputs": [],
   "source": [
    "number_list =[7,5,2,9,3,2,1,4,45,11,15,12]\n",
    "prime=[]\n",
    "not_prime=[]\n",
    "flag=0\n",
    "for number in number_list:\n",
    "    if number%i==0:\n",
    "     flag=1\n",
    "     break\n",
    "    else:\n",
    "     continue\n",
    "if flag==0:\n",
    "    print(\"Prime number\")\n",
    "else:\n",
    "    print(\"Not prime\")"
   ]
  },
  {
   "cell_type": "code",
   "execution_count": null,
   "id": "30fa8090-f5ad-4d92-b8b1-55af2237e871",
   "metadata": {},
   "outputs": [],
   "source": [
    "print(1, end=\" \")"
   ]
  },
  {
   "cell_type": "code",
   "execution_count": null,
   "id": "5bcb979b-6968-4806-a986-8737b940a6be",
   "metadata": {},
   "outputs": [],
   "source": [
    "for i in range(1,6):\n",
    "    for j in range(1,i+1):\n",
    "     print(i, end=\" \")\n",
    "     print(\"/n\")"
   ]
  },
  {
   "cell_type": "code",
   "execution_count": null,
   "id": "08565b6f-f85c-495e-b106-d652fb105b06",
   "metadata": {},
   "outputs": [],
   "source": [
    "for i in range(1,6):\n",
    "    for j in range(1,i+1):\n",
    "        print(j,end=\" \")\n",
    "    print(\"/n\")"
   ]
  },
  {
   "cell_type": "code",
   "execution_count": null,
   "id": "4cfce4be-6889-4e4f-b118-02ba7354d951",
   "metadata": {},
   "outputs": [],
   "source": [
    "for i in range(1,6):\n",
    "    for j in range(1,i+1):\n",
    "        print(\"*\", end=\" \")\n",
    "    print(\"/n\")"
   ]
  },
  {
   "cell_type": "code",
   "execution_count": null,
   "id": "1c24005f-2db5-4376-a9f1-ca3a431fa7ff",
   "metadata": {},
   "outputs": [],
   "source": [
    "for i in range(1,6):\n",
    "    for j in range(5,i-1):\n",
    "     print(j, end=\" \")\n",
    "    print(\"/n\")\n"
   ]
  },
  {
   "cell_type": "code",
   "execution_count": null,
   "id": "7679efdd-285a-4332-b91e-d0afade5e39b",
   "metadata": {},
   "outputs": [],
   "source": [
    "for i in range(1,5+1):\n",
    "    for k in range(i,5):\n",
    "     print(\" \",end=\" \")\n",
    "    for j in range(1,i+1):\n",
    "     print(\"*\",end=\" \")\n",
    "print(\"/n\")\n"
   ]
  },
  {
   "cell_type": "code",
   "execution_count": null,
   "id": "a85607cf-a3d3-4191-ad53-c0cf591ad87b",
   "metadata": {},
   "outputs": [],
   "source": [
    "i=0\n",
    "while i<5:\n",
    "    print(i)\n",
    "    i=i+1"
   ]
  },
  {
   "cell_type": "code",
   "execution_count": null,
   "id": "26d5126e-c3c5-4fb4-933a-95ddf90c24b3",
   "metadata": {},
   "outputs": [],
   "source": [
    "a=8\n",
    "b=6\n",
    "a+b\n"
   ]
  },
  {
   "cell_type": "code",
   "execution_count": null,
   "id": "bcbdc14e-ba93-4022-bd08-d2a311ed88e1",
   "metadata": {},
   "outputs": [],
   "source": [
    "\n",
    "i=0\n",
    "while i<5:\n",
    " print (i)\n",
    " i=i+1"
   ]
  },
  {
   "cell_type": "code",
   "execution_count": null,
   "id": "88e88081-028d-420e-8c02-8d22444ded4c",
   "metadata": {},
   "outputs": [],
   "source": [
    "import numpy as np"
   ]
  },
  {
   "cell_type": "code",
   "execution_count": null,
   "id": "415077be-81e4-46de-8e76-b0acd575624e",
   "metadata": {},
   "outputs": [],
   "source": [
    "a=[1,2,3,4,5]\n",
    "i=0\n",
    "while i>len(a):\n",
    " print (a[i])\n",
    " i=i+1"
   ]
  },
  {
   "cell_type": "code",
   "execution_count": null,
   "id": "af60a38f-2e9c-4688-9470-298760c5c01b",
   "metadata": {},
   "outputs": [],
   "source": [
    "a=[1,2,3,4,5]\n",
    "i=0\n",
    "while i>len(a):\n",
    " print (a[i])\n",
    " i=i+1"
   ]
  },
  {
   "cell_type": "code",
   "execution_count": null,
   "id": "2a46c67d-fa0d-4688-a5dd-7d6202ad8bb3",
   "metadata": {},
   "outputs": [],
   "source": [
    "while True:\n",
    "    password=input(\"enter password\")\n",
    "    if len(password)>8 and (password)<=12:\n",
    "        print (\"password accepted\")\n",
    "        break\n",
    "    else:\n",
    "         print (\"password not accepted\")\n",
    "         continue"
   ]
  },
  {
   "cell_type": "code",
   "execution_count": null,
   "id": "252cc837-a711-4b01-9c25-5e752a9f930c",
   "metadata": {},
   "outputs": [],
   "source": [
    "import numpy as np\n"
   ]
  },
  {
   "cell_type": "code",
   "execution_count": null,
   "id": "12bf0350-aea2-41f4-a85e-410d6778f999",
   "metadata": {},
   "outputs": [],
   "source": [
    "a=[[1,2,3],[4,5,6],[7,8,9]]\n",
    "b=[[1,2,3],[4,5,6],[7,8,9]]\n",
    "matrix1=np.array(a)\n",
    "matrix2=np.array(b)"
   ]
  },
  {
   "cell_type": "code",
   "execution_count": null,
   "id": "6b3f86e3-6313-45fd-a05c-185278d023e0",
   "metadata": {},
   "outputs": [],
   "source": [
    "matrix1"
   ]
  },
  {
   "cell_type": "code",
   "execution_count": null,
   "id": "3e2db43a-fe54-443d-bffb-27a0871a7c9c",
   "metadata": {},
   "outputs": [],
   "source": [
    "matrix2"
   ]
  },
  {
   "cell_type": "code",
   "execution_count": null,
   "id": "59f2943f-cfcf-46f2-8917-978fe9c176ab",
   "metadata": {},
   "outputs": [],
   "source": [
    "type(matrix2)"
   ]
  },
  {
   "cell_type": "code",
   "execution_count": null,
   "id": "9f78f1ea-3915-4b77-b205-8d231cb91076",
   "metadata": {},
   "outputs": [],
   "source": [
    "matrix1+matrix2"
   ]
  },
  {
   "cell_type": "code",
   "execution_count": null,
   "id": "f13baf20-f835-475f-a4ec-190f818dcb34",
   "metadata": {},
   "outputs": [],
   "source": [
    "matrix1*matrix2"
   ]
  },
  {
   "cell_type": "code",
   "execution_count": null,
   "id": "569c0b31-7a26-4f45-8928-d72eea78790b",
   "metadata": {},
   "outputs": [],
   "source": [
    "matrix1.dot(matrix2)"
   ]
  },
  {
   "cell_type": "code",
   "execution_count": null,
   "id": "a55091ef-a92e-4483-b3e1-291bfecdaf70",
   "metadata": {},
   "outputs": [],
   "source": [
    "np.dot(matrix1,matrix2)"
   ]
  },
  {
   "cell_type": "code",
   "execution_count": null,
   "id": "1c643404-cb3c-4073-a3a1-6cac8445a820",
   "metadata": {},
   "outputs": [],
   "source": [
    "a=[[ 30,  36,  42],\n",
    "       [ 66,  81,  96],\n",
    "       [102, 126, 150]]\n",
    "arr=np.array(a)\n",
    "arr"
   ]
  },
  {
   "cell_type": "code",
   "execution_count": null,
   "id": "1b08cb79-8e3a-4106-a260-bc7fcdf3bec7",
   "metadata": {},
   "outputs": [],
   "source": [
    "arr[0]"
   ]
  },
  {
   "cell_type": "code",
   "execution_count": null,
   "id": "6b6a16f1-daa6-489c-bf98-6c3307cd2ccf",
   "metadata": {},
   "outputs": [],
   "source": [
    "arr[1]"
   ]
  },
  {
   "cell_type": "code",
   "execution_count": null,
   "id": "15a94124-9f66-4f6b-95e1-1e8bbd55e854",
   "metadata": {},
   "outputs": [],
   "source": [
    "arr[2]"
   ]
  },
  {
   "cell_type": "code",
   "execution_count": null,
   "id": "11da45c8-2dda-44f0-ae42-668e4e5df95d",
   "metadata": {},
   "outputs": [],
   "source": [
    "arr[0,0]"
   ]
  },
  {
   "cell_type": "code",
   "execution_count": null,
   "id": "54c1b92c-a31a-4dd5-9621-a10990ad440d",
   "metadata": {},
   "outputs": [],
   "source": [
    "a=[[ 30,  36,  42],\n",
    "       [ 66,  81,  96],\n",
    "       [102, 126, 150]]\n",
    "arr=np.array(a)\n",
    "arr"
   ]
  },
  {
   "cell_type": "code",
   "execution_count": null,
   "id": "765e25b2-e8f5-413d-9f88-d355e426904b",
   "metadata": {},
   "outputs": [],
   "source": [
    "arr[2,2]"
   ]
  },
  {
   "cell_type": "code",
   "execution_count": null,
   "id": "a33ea99a-a070-4527-b158-6a3b757c2f99",
   "metadata": {},
   "outputs": [],
   "source": [
    "arr[-1,-2]"
   ]
  },
  {
   "cell_type": "code",
   "execution_count": null,
   "id": "a20e13f2-1483-413d-903c-e66abcc1f959",
   "metadata": {},
   "outputs": [],
   "source": [
    "arr[0,0]=15\n",
    "arr"
   ]
  },
  {
   "cell_type": "code",
   "execution_count": null,
   "id": "2b67cf00-4978-4f54-abbe-004ea13a5588",
   "metadata": {},
   "outputs": [],
   "source": [
    "arr[0]=([1,2,3])\n",
    "arr"
   ]
  },
  {
   "cell_type": "code",
   "execution_count": null,
   "id": "c53b9258-a5c1-489d-92a0-c86269792e16",
   "metadata": {},
   "outputs": [],
   "source": [
    "arr[:2]"
   ]
  },
  {
   "cell_type": "code",
   "execution_count": null,
   "id": "eb88b0c5-f7ca-4971-8663-439e08d5fd88",
   "metadata": {},
   "outputs": [],
   "source": [
    "arr[1:]"
   ]
  },
  {
   "cell_type": "code",
   "execution_count": null,
   "id": "93f82962-5df1-4fd9-81f0-0ef2fc9ca733",
   "metadata": {},
   "outputs": [],
   "source": [
    "arr[[0,2]]"
   ]
  },
  {
   "cell_type": "code",
   "execution_count": null,
   "id": "960c3fbb-1f5a-4891-843d-7ab6a48b1e6d",
   "metadata": {},
   "outputs": [],
   "source": [
    "arr[:2,:2]"
   ]
  },
  {
   "cell_type": "code",
   "execution_count": null,
   "id": "280913d0-8e61-4975-b607-d36835585331",
   "metadata": {},
   "outputs": [],
   "source": [
    "arr[[0,2],:][:,[0,2]]"
   ]
  },
  {
   "cell_type": "code",
   "execution_count": null,
   "id": "3854cf40-1b4d-4e9c-9932-184274eabab1",
   "metadata": {},
   "outputs": [],
   "source": [
    "arr.shape"
   ]
  },
  {
   "cell_type": "code",
   "execution_count": null,
   "id": "59611b4f-5d8a-4e8e-a417-f55cdb1e9f8f",
   "metadata": {},
   "outputs": [],
   "source": [
    "len(arr)"
   ]
  },
  {
   "cell_type": "code",
   "execution_count": null,
   "id": "a3c05e16-1208-4f5d-b0d2-9974e6e2d026",
   "metadata": {},
   "outputs": [],
   "source": [
    "arr.dtype"
   ]
  },
  {
   "cell_type": "code",
   "execution_count": null,
   "id": "3abc6500-4014-46f9-9767-95561d180deb",
   "metadata": {},
   "outputs": [],
   "source": [
    "arr.astype(\"float\")"
   ]
  },
  {
   "cell_type": "code",
   "execution_count": null,
   "id": "86f2ccf4-633e-4d5d-9b28-10370cea0849",
   "metadata": {},
   "outputs": [],
   "source": [
    "for i in range(7):\n",
    "    for j in range(7):\n",
    "        if(i==0 or i==6 or j==0 or j==6):\n",
    "            print(\"*\",end=\" \")\n",
    "        else:\n",
    "            print(\" \",end=\" \")\n",
    "print()"
   ]
  },
  {
   "cell_type": "code",
   "execution_count": null,
   "id": "114d9844-e09d-4d0a-a6bc-f973c6554918",
   "metadata": {},
   "outputs": [],
   "source": [
    "a=5\n",
    "b=6\n",
    "print(a+b)"
   ]
  },
  {
   "cell_type": "code",
   "execution_count": null,
   "id": "8ec916be-9b41-4284-bd7a-2d4a762b7b33",
   "metadata": {},
   "outputs": [],
   "source": [
    "def add():\n",
    "    a=5\n",
    "    b=6\n",
    "    print(a+b)"
   ]
  },
  {
   "cell_type": "code",
   "execution_count": null,
   "id": "4d686dbc-06ae-4906-842e-178d3290ed1b",
   "metadata": {},
   "outputs": [],
   "source": [
    "add()"
   ]
  },
  {
   "cell_type": "code",
   "execution_count": null,
   "id": "bd8bfe94-1c3f-4487-940e-06b188232a21",
   "metadata": {},
   "outputs": [],
   "source": [
    "def add(a,b):\n",
    "    print(a+b)\n",
    "add(5,6)\n"
   ]
  },
  {
   "cell_type": "code",
   "execution_count": null,
   "id": "005e4a4d-2019-492b-8fca-a86750d986dd",
   "metadata": {},
   "outputs": [],
   "source": [
    "def sub():\n",
    "    a=8\n",
    "    b=4\n",
    "    print(b-a)\n",
    "result=sub()"
   ]
  },
  {
   "cell_type": "code",
   "execution_count": null,
   "id": "a7e21346-9e48-4c54-9432-74445977cbe6",
   "metadata": {},
   "outputs": [],
   "source": [
    "def sub():\n",
    "    a=8\n",
    "    b=4\n",
    "    print(b-a)\n",
    "    return(b-a)\n",
    "result=sub()\n",
    "    \n",
    "    "
   ]
  },
  {
   "cell_type": "code",
   "execution_count": null,
   "id": "38f263c0-1eee-431f-bdae-41404bf4e213",
   "metadata": {},
   "outputs": [],
   "source": [
    "def check(x):\n",
    "    if x%2==0:\n",
    "        print(\"even\")\n",
    "    else:\n",
    "        print(\"odd\")\n",
    "check(7)"
   ]
  },
  {
   "cell_type": "code",
   "execution_count": null,
   "id": "a6b35007-6452-4156-8b99-add0ffd6d329",
   "metadata": {},
   "outputs": [],
   "source": [
    "import numpy as np"
   ]
  },
  {
   "cell_type": "code",
   "execution_count": null,
   "id": "4da64a0d-2b7f-4160-9ddb-b5f7557db3b8",
   "metadata": {},
   "outputs": [],
   "source": [
    "a=[[ 30,  36,  42],\n",
    "       [ 66,  81,  96],\n",
    "       [102, 126, 150]]\n",
    "arr=np.array(a)\n",
    "arr"
   ]
  },
  {
   "cell_type": "code",
   "execution_count": null,
   "id": "481da7e4-8ec1-4192-9a79-7759c1ef33ec",
   "metadata": {},
   "outputs": [],
   "source": [
    "np.array([[ 30,  36,  42],\n",
    "       [ 66,  81,  96],\n",
    "       [102, 126, 150]]).ndim"
   ]
  },
  {
   "cell_type": "code",
   "execution_count": null,
   "id": "cfcf7bbc-efb6-4bdf-96b6-3e6dd723746a",
   "metadata": {},
   "outputs": [],
   "source": [
    "np.array([[[ 30,  36,  42],\n",
    "       [ 66,  81,  96],\n",
    "       [102, 126, 150]]]).shape"
   ]
  },
  {
   "cell_type": "code",
   "execution_count": null,
   "id": "657716a4-3176-459a-914b-0f94be738b0c",
   "metadata": {},
   "outputs": [],
   "source": [
    "a=np.array([[5.1,1.2],\n",
    "           [8.3,6.3],\n",
    "           [5.3,9.5]]).ndim"
   ]
  },
  {
   "cell_type": "code",
   "execution_count": null,
   "id": "15d73810-26f6-4278-9c6e-8d8704b818dc",
   "metadata": {},
   "outputs": [],
   "source": [
    "a"
   ]
  },
  {
   "cell_type": "code",
   "execution_count": null,
   "id": "2d51e732-a87d-4d9b-8f1c-10a585753dd9",
   "metadata": {},
   "outputs": [],
   "source": [
    "a = np.array([[5.1, 1.2], [8.3, 6.3], [5.3, 9.5]])"
   ]
  },
  {
   "cell_type": "code",
   "execution_count": null,
   "id": "e563dbb4-c7ec-4b27-951b-a2ff04b6b771",
   "metadata": {},
   "outputs": [],
   "source": [
    "a"
   ]
  },
  {
   "cell_type": "code",
   "execution_count": null,
   "id": "bef6bae3-9e28-4f41-931f-9989ee509622",
   "metadata": {},
   "outputs": [],
   "source": [
    "a.sort()"
   ]
  },
  {
   "cell_type": "code",
   "execution_count": null,
   "id": "76eb7dab-cfa5-4471-9ce9-3ca008a78886",
   "metadata": {},
   "outputs": [],
   "source": [
    "a"
   ]
  },
  {
   "cell_type": "code",
   "execution_count": null,
   "id": "3aefeced-fc24-4a67-9a27-704aeb16e432",
   "metadata": {},
   "outputs": [],
   "source": [
    "a.sort(axis=0)"
   ]
  },
  {
   "cell_type": "code",
   "execution_count": null,
   "id": "094336e9-22fb-48c4-9050-dc1ccedfc028",
   "metadata": {},
   "outputs": [],
   "source": [
    "a"
   ]
  },
  {
   "cell_type": "code",
   "execution_count": null,
   "id": "3aa20c92-ed57-4f1b-9d02-166ab4261e08",
   "metadata": {},
   "outputs": [],
   "source": [
    "a.resize(2,3)"
   ]
  },
  {
   "cell_type": "code",
   "execution_count": null,
   "id": "ea16e94c-1862-4217-b543-dcdd2c6448ba",
   "metadata": {},
   "outputs": [],
   "source": [
    "a"
   ]
  },
  {
   "cell_type": "code",
   "execution_count": null,
   "id": "c548c520-7299-482c-8d89-9e309f696246",
   "metadata": {},
   "outputs": [],
   "source": [
    "a=[[1,2,3],[4,5,6],[7,8,9]]\n",
    "b=[[1,2,3],[4,5,6],[7,8,9]]\n",
    "np.append(a,b)"
   ]
  },
  {
   "cell_type": "code",
   "execution_count": null,
   "id": "db51eea2-b00c-4c20-bac2-38894e276e85",
   "metadata": {},
   "outputs": [],
   "source": [
    "a=np.array([[1,2,3],[4,5,6],[7,8,9]])\n",
    "a.flatten()"
   ]
  },
  {
   "cell_type": "code",
   "execution_count": null,
   "id": "a340c179-036f-48df-9547-4d825ae9d05a",
   "metadata": {},
   "outputs": [],
   "source": [
    "a=np.array([[1,2,3],[4,5,6],[7,8,9]])\n",
    "np.insert(a,0,8)"
   ]
  },
  {
   "cell_type": "code",
   "execution_count": null,
   "id": "f713354c-afaf-41f2-9f8c-106f8214cd92",
   "metadata": {},
   "outputs": [],
   "source": [
    "a=[[1,2,3],[4,5,6],[7,8,9]]\n",
    "b=[[1,2,3],[4,5,6],[7,8,9]]\n",
    "np.concatenate((a,b),axis=0)"
   ]
  },
  {
   "cell_type": "code",
   "execution_count": null,
   "id": "ac748d64-4715-4298-b757-d270c3e8b305",
   "metadata": {},
   "outputs": [],
   "source": [
    "a=[[1,2,3],[4,5,6],[7,8,9]]\n",
    "b=[[1,2,3],[4,5,6],[7,8,9]]\n",
    "np.concatenate((a,b),axis=1)"
   ]
  },
  {
   "cell_type": "code",
   "execution_count": null,
   "id": "840c58b3-ea52-48d0-8892-12f4bc512ccb",
   "metadata": {},
   "outputs": [],
   "source": [
    "np.hstack((a,b))"
   ]
  },
  {
   "cell_type": "code",
   "execution_count": null,
   "id": "0ca2ae34-9597-4412-963f-258b7dac95a1",
   "metadata": {},
   "outputs": [],
   "source": [
    "np.vstack((a,b))"
   ]
  },
  {
   "cell_type": "code",
   "execution_count": null,
   "id": "e4331f3a-9466-4256-9e8f-b590a7b7078a",
   "metadata": {},
   "outputs": [],
   "source": [
    "a=[[1,2],[3,4]]\n",
    "b=[[5,6],[7,8]]\n",
    "np.concatenate((a,b),axis=0)"
   ]
  },
  {
   "cell_type": "code",
   "execution_count": null,
   "id": "32292bdb-f415-4d7c-8962-b8fa3201d919",
   "metadata": {},
   "outputs": [],
   "source": [
    "import numpy as np"
   ]
  },
  {
   "cell_type": "code",
   "execution_count": null,
   "id": "c857e38b-0398-4231-b224-21aa0d967251",
   "metadata": {},
   "outputs": [],
   "source": [
    "a=[[1,2],[3,4]]\n",
    "b=[[5,6],[7,8]]\n",
    "np.hstack((a,b))"
   ]
  },
  {
   "cell_type": "code",
   "execution_count": null,
   "id": "94f1c059-e52f-4a60-8ecb-46872f7e2a36",
   "metadata": {},
   "outputs": [],
   "source": [
    "a=np.array([[1,2,81,25],[3,4,4,16]])\n",
    "a.T"
   ]
  },
  {
   "cell_type": "code",
   "execution_count": null,
   "id": "7cdf57fd-ec53-4a4b-a17d-4537146f56d9",
   "metadata": {},
   "outputs": [],
   "source": [
    "a=np.array([[2,5],[8,5]])\n",
    "np.linalg.det(a)"
   ]
  },
  {
   "cell_type": "code",
   "execution_count": null,
   "id": "c26bbc28-511b-4b0b-8129-00f389138925",
   "metadata": {},
   "outputs": [],
   "source": [
    "a=np.array([[2,5],[8,5]])\n",
    "np.linalg.inv(a)"
   ]
  },
  {
   "cell_type": "code",
   "execution_count": null,
   "id": "878003d8-68da-4f72-b6eb-e5ad29536360",
   "metadata": {},
   "outputs": [],
   "source": [
    "a=[[1,2],[3,4]]\n",
    "b=[[5,6],[7,8]]\n",
    "np.vstack((a,b))"
   ]
  },
  {
   "cell_type": "code",
   "execution_count": null,
   "id": "9acef848-5fbe-4927-b34e-8b645a4c73fa",
   "metadata": {},
   "outputs": [],
   "source": [
    "np.arange(1,52,dtype=\"float\")"
   ]
  },
  {
   "cell_type": "code",
   "execution_count": null,
   "id": "5c41c68d-92ce-4a31-9e9c-acc3b1ec4c85",
   "metadata": {},
   "outputs": [],
   "source": [
    "np.linspace(1,20,5)"
   ]
  },
  {
   "cell_type": "code",
   "execution_count": null,
   "id": "929d8cd4-e9dc-465a-9c34-721fab5f21c1",
   "metadata": {},
   "outputs": [],
   "source": [
    "np.random.random((5,8))"
   ]
  },
  {
   "cell_type": "code",
   "execution_count": null,
   "id": "0b641daf-55d1-4ec7-b743-1d8fdf569927",
   "metadata": {},
   "outputs": [],
   "source": [
    "np.zeros((2,2))"
   ]
  },
  {
   "cell_type": "code",
   "execution_count": null,
   "id": "bcc6cf12-9514-40af-919d-71e8e0f652d8",
   "metadata": {},
   "outputs": [],
   "source": [
    "mu=50\n",
    "sigma=100\n",
    "np.random.normal(mu,sigma,1000)"
   ]
  },
  {
   "cell_type": "code",
   "execution_count": null,
   "id": "90a3a997-5c93-491c-8760-ddcc370fe063",
   "metadata": {},
   "outputs": [],
   "source": [
    "np.ones((2,6))"
   ]
  },
  {
   "cell_type": "code",
   "execution_count": null,
   "id": "01912759-8cd7-4f49-90f1-c53b4a4d23ee",
   "metadata": {},
   "outputs": [],
   "source": [
    "np.random.uniform(8,60,20)"
   ]
  },
  {
   "cell_type": "code",
   "execution_count": null,
   "id": "976a26dd-419b-4809-8c73-ee66791266b1",
   "metadata": {},
   "outputs": [],
   "source": [
    "np.random.lognormal(size=15)"
   ]
  },
  {
   "cell_type": "code",
   "execution_count": null,
   "id": "b18db0ff-531a-47ab-b43f-c634b2c6cc51",
   "metadata": {},
   "outputs": [],
   "source": [
    "a=([2.0139901 , 1.10640016, 3.97340433, 0.73926288, 1.64408698,\n",
    "       0.33926772, 1.59865897, 1.05667949, 0.66311161, 5.75245969,\n",
    "       1.68741799, 1.61720679, 2.42175374, 0.13018899, 0.16925513])\n",
    "np.random.choice(a,5,replace=False)"
   ]
  },
  {
   "cell_type": "code",
   "execution_count": null,
   "id": "553f04c8-58e3-45e4-80fc-26609f18bccd",
   "metadata": {},
   "outputs": [],
   "source": [
    "a=([2.0139901 , 1.10640016, 3.97340433, 0.73926288, 1.64408698,\n",
    "       0.33926772])\n",
    "np.random.choice(a,5,replace=False,p=[0.5,0,0.1,0.2,0.1,0.1])"
   ]
  },
  {
   "cell_type": "code",
   "execution_count": null,
   "id": "ba9f6c4f-30d7-44ed-997f-f45e7203aa9f",
   "metadata": {},
   "outputs": [],
   "source": [
    "np.random.rand(3,2)"
   ]
  },
  {
   "cell_type": "code",
   "execution_count": null,
   "id": "6d3004f5-23fa-4432-95ef-347872669228",
   "metadata": {},
   "outputs": [],
   "source": [
    "np.random.randint(low=2,high=32,size=4)"
   ]
  },
  {
   "cell_type": "code",
   "execution_count": null,
   "id": "882e28ed-70d5-4889-a17a-5892b008b950",
   "metadata": {},
   "outputs": [],
   "source": [
    "np.random.sample((3,2))"
   ]
  },
  {
   "cell_type": "code",
   "execution_count": null,
   "id": "fdfd7dbe-5538-48e3-8d86-2800b9873be5",
   "metadata": {},
   "outputs": [],
   "source": [
    "import numpy as np\n",
    "from scipy import stats"
   ]
  },
  {
   "cell_type": "code",
   "execution_count": null,
   "id": "a6a99736-459e-4ee6-8021-c39c36904280",
   "metadata": {},
   "outputs": [],
   "source": [
    "a=[22,25,41,65,89,26,71,35,2,6,3,8,7,921,26,8,6,1,]\n",
    "mu=82\n",
    "np_a=np.array(a)\n",
    "t_test,p_value=stats.ttest_1samp(np_a,mu)\n",
    "print(t_test,p_value)"
   ]
  },
  {
   "cell_type": "code",
   "execution_count": null,
   "id": "865da3c3-608b-48dc-9770-e7618174dd44",
   "metadata": {},
   "outputs": [],
   "source": [
    "alpha=0.05\n",
    "if p_value>alpha:\n",
    "    print(\"TAKE ALTERNATIVE\")\n",
    "else:\n",
    "    print(\"TAKE NULL\")\n",
    "    "
   ]
  },
  {
   "cell_type": "code",
   "execution_count": null,
   "id": "93b864d0-5998-465f-b26a-75c6c90590f5",
   "metadata": {},
   "outputs": [],
   "source": [
    "import matplotlib.pyplot as plt\n",
    "   ...: import seaborn as sns\n",
    "   ...:\n",
    "   ...: tips = sns.load_dataset(\"tips\")\n",
    "   ...:\n",
    "   ...: (\n",
    "   ...:     sns.barplot(\n",
    "   ...:         data=tips, x=\"day\", y=\"tip\",\n",
    "   ...:         estimator=\"mean\", errorbar=None,\n",
    "   ...:     )\n",
    "   ...:     .set(title=\"Daily Tips ($)\")\n",
    "   ...: )\n",
    "   ...:\n",
    "   ...: plt.show()"
   ]
  },
  {
   "cell_type": "code",
   "execution_count": null,
   "id": "a40482ce-0afe-42f5-923e-6bd5bd37c561",
   "metadata": {},
   "outputs": [],
   "source": [
    "import seaborn as sns\n",
    "iris=sns.load_dataset('iris')\n",
    "iris"
   ]
  },
  {
   "cell_type": "code",
   "execution_count": null,
   "id": "76b9a84b-7e12-4e43-9e4d-d26c8dfd5dc9",
   "metadata": {},
   "outputs": [],
   "source": [
    "import numpy as np\n",
    "from scipy import stats"
   ]
  },
  {
   "cell_type": "code",
   "execution_count": null,
   "id": "d97c53f6-3e45-4235-ab96-2a86013bf6e3",
   "metadata": {},
   "outputs": [],
   "source": [
    "versicolor=[4.7,4.5,4.9,4.0,4.6,4.5,4.7,3.3,4.6,3.9]\n",
    "setosa=[1.4,1.4,1.3,1.5,1.4,1.7,1.4,1.5,.4,1.5]\n",
    "t_test,p_value=stats.ttest_ind(versicolor,setosa)\n",
    "print(t_test,p_value)"
   ]
  },
  {
   "cell_type": "code",
   "execution_count": null,
   "id": "6da342cf-2e30-4c1c-b6e1-cd3b60114b64",
   "metadata": {},
   "outputs": [],
   "source": [
    "from scipy.stats import f_oneway"
   ]
  },
  {
   "cell_type": "code",
   "execution_count": null,
   "id": "0813c4ef-8acf-474f-8693-6708c2086dbf",
   "metadata": {},
   "outputs": [],
   "source": [
    "performance1=[89,89,88,78,79]\n",
    "performance2=[93,92,94,89,88]\n",
    "performance3=[89,89,89,93,90]\n",
    "performance4=[81,78,81,92,82]\n",
    "values=f_oneway(performance1,performance2,performance3,performance4)"
   ]
  },
  {
   "cell_type": "code",
   "execution_count": null,
   "id": "22c54164-8aa1-439e-b8ff-3c6ae5c2a9c0",
   "metadata": {},
   "outputs": [],
   "source": [
    "performance1=[89,89,88,78,79]\n",
    "performance2=[93,92,94,89,88]\n",
    "performance3=[89,89,89,93,90]\n",
    "performance4=[81,78,81,92,82]\n",
    "from scipy.stats import f_oneway\n",
    "values=f_oneway(performance1,performance2,performance3,performance4)"
   ]
  },
  {
   "cell_type": "code",
   "execution_count": null,
   "id": "22fa1003-70bd-4d6a-bfd8-b268b8292146",
   "metadata": {},
   "outputs": [],
   "source": [
    "import numpy as np\n",
    "from scipy import stats"
   ]
  },
  {
   "cell_type": "code",
   "execution_count": null,
   "id": "e5a5b953-0026-4f04-9139-a18ccd34b683",
   "metadata": {},
   "outputs": [],
   "source": [
    "performance1=[89,89,88,78,79]\n",
    "performance2=[93,92,94,89,88]\n",
    "performance3=[89,89,89,93,90]\n",
    "performance4=[81,78,81,92,82]\n",
    "from scipy.stats import f_oneway\n",
    "values=f_oneway(performance1,performance2,performance3,performance4)"
   ]
  },
  {
   "cell_type": "code",
   "execution_count": null,
   "id": "8000687c-31a9-427f-ae9b-d2895d574cd0",
   "metadata": {},
   "outputs": [],
   "source": [
    "values"
   ]
  },
  {
   "cell_type": "code",
   "execution_count": null,
   "id": "02530077-084d-4847-a95c-0330330ede8c",
   "metadata": {},
   "outputs": [],
   "source": [
    "sum(performance4)/len(performance4)"
   ]
  },
  {
   "cell_type": "code",
   "execution_count": null,
   "id": "9f959217-4203-42c8-9da2-5650583345bc",
   "metadata": {},
   "outputs": [],
   "source": [
    "import pandas as pd"
   ]
  },
  {
   "cell_type": "code",
   "execution_count": null,
   "id": "76188f07-6cef-4c74-aa35-3b98dfe13174",
   "metadata": {},
   "outputs": [],
   "source": [
    "data=pd.DataFrame({\"FLAVOUR\":[1,2,3],\"MEN\":[20,25,15],\"WOMEN\":[50,45,25]})\n",
    "print(data)"
   ]
  },
  {
   "cell_type": "markdown",
   "id": "53d42900-9157-40bd-be5c-afd511ffe8bf",
   "metadata": {},
   "source": [
    "Null:The preference for ice cream is independent of gender.\n",
    "Alternative: The preference for ice cream is dependent of gender\n",
    "    "
   ]
  },
  {
   "cell_type": "code",
   "execution_count": null,
   "id": "28c4896f-5578-4440-839b-95d048bab075",
   "metadata": {},
   "outputs": [],
   "source": [
    "from scipy.stats import chi2_contingency\n",
    "chi2,p,dof,expected=chi2_contingency(data.values)\n",
    "print (p)"
   ]
  },
  {
   "cell_type": "markdown",
   "id": "b54539a8-181b-4a34-b2b5-389aa06b8375",
   "metadata": {},
   "source": [
    "NUMPY WHERE/FILTERING"
   ]
  },
  {
   "cell_type": "code",
   "execution_count": null,
   "id": "3fae567d-0738-41f4-a7a7-3b4aa36c80a1",
   "metadata": {},
   "outputs": [],
   "source": [
    "import numpy as np"
   ]
  },
  {
   "cell_type": "code",
   "execution_count": null,
   "id": "f303f947-93eb-4a5c-af45-bf9bfc466000",
   "metadata": {},
   "outputs": [],
   "source": [
    "a=np.array([[1,2,3],[4,5,6],[7,8,9]])\n",
    "a"
   ]
  },
  {
   "cell_type": "code",
   "execution_count": null,
   "id": "f0270530-73fd-4f7c-919e-74401e3cdedb",
   "metadata": {},
   "outputs": [],
   "source": [
    "a<=6"
   ]
  },
  {
   "cell_type": "code",
   "execution_count": null,
   "id": "65df6c91-b9f7-47d3-80cb-0e1d0351f003",
   "metadata": {},
   "outputs": [],
   "source": [
    "np.where (a<=6)"
   ]
  },
  {
   "cell_type": "code",
   "execution_count": null,
   "id": "0502385d-db0f-4210-8510-eb034a0b0193",
   "metadata": {},
   "outputs": [],
   "source": [
    "a[np.where (a<=6)]"
   ]
  },
  {
   "cell_type": "code",
   "execution_count": null,
   "id": "582aa1bf-1630-402f-af1f-029ce9f26855",
   "metadata": {},
   "outputs": [],
   "source": [
    "a[np.where (a>6)]"
   ]
  },
  {
   "cell_type": "code",
   "execution_count": null,
   "id": "9aa888e2-e6e6-4eb7-878b-17a0ffde9d83",
   "metadata": {},
   "outputs": [],
   "source": [
    "a[np.where (a%2==0)]"
   ]
  },
  {
   "cell_type": "code",
   "execution_count": null,
   "id": "dc5debfd-ef93-4b20-b955-bb590c6fbf1b",
   "metadata": {},
   "outputs": [],
   "source": [
    "a[np.where (a%2!=0)]"
   ]
  },
  {
   "cell_type": "code",
   "execution_count": null,
   "id": "f01b530c-cd59-477c-9c0a-45c3328fd8fd",
   "metadata": {},
   "outputs": [],
   "source": [
    "import pandas as pd\n"
   ]
  },
  {
   "cell_type": "markdown",
   "id": "26e384e9-4915-470c-b3a9-21e1e461aee0",
   "metadata": {},
   "source": [
    "ROW WISE DATA INSERTION\n"
   ]
  },
  {
   "cell_type": "code",
   "execution_count": null,
   "id": "c68f28ae-2691-4f71-b366-a86fba4437c2",
   "metadata": {},
   "outputs": [],
   "source": [
    "a=[[1,2,3],[4,5,6],[7,8,9]]\n",
    "a"
   ]
  },
  {
   "cell_type": "markdown",
   "id": "45642f68-39d0-4abe-9be7-4edeb9e85aa6",
   "metadata": {},
   "source": [
    "DataFrame()"
   ]
  },
  {
   "cell_type": "code",
   "execution_count": null,
   "id": "f217eae4-41de-4a8e-81c3-f71a07172292",
   "metadata": {},
   "outputs": [],
   "source": [
    "b=pd.DataFrame(a,columns=[\"COL1\",\"COL2\",\"COL3\"])"
   ]
  },
  {
   "cell_type": "code",
   "execution_count": null,
   "id": "3a387431-91a5-42fd-8c4a-57f09c82cdf5",
   "metadata": {},
   "outputs": [],
   "source": [
    "pd.DataFrame(a,columns=[\"COL1\",\"COL2\",\"COL3\"],index=[\"a\",\"b\",\"c\"])"
   ]
  },
  {
   "cell_type": "markdown",
   "id": "cd4f0cf9-dd98-40ec-9644-d5b345507be4",
   "metadata": {},
   "source": [
    "COLUMNS WISE DATA INSERTION "
   ]
  },
  {
   "cell_type": "code",
   "execution_count": null,
   "id": "c528d157-9dc6-4e0b-82a7-8bdce1e953b5",
   "metadata": {},
   "outputs": [],
   "source": [
    "i1=[45,25,65,95]\n",
    "c1=[20,30,60,70]\n",
    "l1=[10,15,20,25]\n",
    "cc2=[85,25,46,32]\n",
    "\n",
    "a= {\n",
    "    \"ICE CREAM\":[45,20,10,85],\n",
    "    \"CAKE\":[25,30,15,25],\n",
    "    \"LAYS\":[65,60,20,46],\n",
    "    \"CHOCOLATE\":[95,70,25,32]\n",
    "}\n",
    "dcw=pd.DataFrame(a)\n",
    "dcw"
   ]
  },
  {
   "cell_type": "code",
   "execution_count": null,
   "id": "5b0de184-52ec-472b-9953-eb8b009304b9",
   "metadata": {},
   "outputs": [],
   "source": [
    "i1=[45,25,65,95]\n",
    "c1=[20,30,60,70]\n",
    "l1=[10,15,20,25]\n",
    "cc2=[85,25,46,32]\n",
    "\n",
    "a= {\n",
    "    \"ICE CREAM\":[45,20,10,85],\n",
    "    \"CAKE\":[25,30,15,25],\n",
    "    \"LAYS\":[65,60,20,46],\n",
    "    \"CHOCOLATE\":[95,70,25,32]\n",
    "}\n",
    "dcw=pd.DataFrame(a,index=[\"A\",\"B\",\"C\",\"D\"])\n",
    "dcw"
   ]
  },
  {
   "cell_type": "code",
   "execution_count": null,
   "id": "475d3a3d-6681-4213-8af0-d765da9bb855",
   "metadata": {},
   "outputs": [],
   "source": [
    "a[\"ICE CREAM\"]"
   ]
  },
  {
   "cell_type": "code",
   "execution_count": null,
   "id": "1800a78c-733f-4d1b-8fb1-a95cbcecb2cd",
   "metadata": {},
   "outputs": [],
   "source": [
    "dcw.loc[\"A\",\"ICE CREAM\"]"
   ]
  },
  {
   "cell_type": "code",
   "execution_count": null,
   "id": "e58b2c68-ae9c-42d7-9ce6-97b448bda1f1",
   "metadata": {},
   "outputs": [],
   "source": [
    "dcw"
   ]
  },
  {
   "cell_type": "markdown",
   "id": "858dad21-8326-4b83-8226-b831e84eaa3c",
   "metadata": {},
   "source": [
    "INDEX SLICING "
   ]
  },
  {
   "cell_type": "code",
   "execution_count": null,
   "id": "d66ac476-f984-4245-8c58-59a78959d3ac",
   "metadata": {},
   "outputs": [],
   "source": [
    "dcw.iloc[:,0]"
   ]
  },
  {
   "cell_type": "code",
   "execution_count": null,
   "id": "ea45e80a-46ed-4cc1-a66e-e04144b82412",
   "metadata": {},
   "outputs": [],
   "source": [
    "dcw.iloc[:,0:3]\n"
   ]
  },
  {
   "cell_type": "code",
   "execution_count": null,
   "id": "28ec95fa-fb2f-4e43-b07e-1be9451158a1",
   "metadata": {},
   "outputs": [],
   "source": [
    "dcw.iloc[:,0:4]\n"
   ]
  },
  {
   "cell_type": "markdown",
   "id": "672eb53d-8451-44a3-bf12-231033322b6c",
   "metadata": {},
   "source": [
    "SLICING WITHOUT INDEXING"
   ]
  },
  {
   "cell_type": "code",
   "execution_count": null,
   "id": "6e408e40-6187-4e0b-bb1b-dffd1b515fca",
   "metadata": {},
   "outputs": [],
   "source": [
    "dcw.loc[:,\"ICE CREAM\":\"CHOCOLATE\"]"
   ]
  },
  {
   "cell_type": "markdown",
   "id": "bc8c6a7d-38f6-4107-b394-71fae6f2cfaf",
   "metadata": {},
   "source": [
    "COLUMN SLICING"
   ]
  },
  {
   "cell_type": "code",
   "execution_count": null,
   "id": "e62f8462-cd69-4649-a0ed-3962a9666366",
   "metadata": {},
   "outputs": [],
   "source": [
    "import pandas as pd"
   ]
  },
  {
   "cell_type": "code",
   "execution_count": null,
   "id": "8a2398d4-9cd9-4d8b-ad50-cd12290977d7",
   "metadata": {},
   "outputs": [],
   "source": [
    "i1=[45,25,65,95]\n",
    "c1=[20,30,60,70]\n",
    "l1=[10,15,20,25]\n",
    "cc2=[85,25,46,32]\n",
    "\n",
    "a= {\n",
    "    \"ICE CREAM\":[45,20,10,85],\n",
    "    \"CAKE\":[25,30,15,25],\n",
    "    \"LAYS\":[65,60,20,46],\n",
    "    \"CHOCOLATE\":[95,70,25,32]\n",
    "}\n",
    "dcw=pd.DataFrame(a)\n",
    "dcw"
   ]
  },
  {
   "cell_type": "code",
   "execution_count": null,
   "id": "fa49cae0-ec52-4363-97af-712ac9d72661",
   "metadata": {},
   "outputs": [],
   "source": [
    "dcw.loc[:,\"ICE CREAM\":\"CHOCOLATE\"]"
   ]
  },
  {
   "cell_type": "markdown",
   "id": "34c536c9-ceb9-48cd-9dad-7e7a6d327761",
   "metadata": {},
   "source": [
    "ROW SLICING"
   ]
  },
  {
   "cell_type": "code",
   "execution_count": null,
   "id": "3bb153f8-3131-4f8a-9d26-8b132ef7857f",
   "metadata": {},
   "outputs": [],
   "source": [
    "dcw.iloc[0,:2]"
   ]
  },
  {
   "cell_type": "code",
   "execution_count": null,
   "id": "0ffeaf5e-4806-465c-9c4c-b929424796e2",
   "metadata": {},
   "outputs": [],
   "source": [
    "dcw.iloc[2:,:2]"
   ]
  },
  {
   "cell_type": "code",
   "execution_count": null,
   "id": "a4d1c1d3-1686-4ce8-9652-c32a07ca6746",
   "metadata": {},
   "outputs": [],
   "source": [
    "dcw"
   ]
  },
  {
   "cell_type": "code",
   "execution_count": null,
   "id": "f4dedabc-3c0c-4451-b99a-c64b33756b5e",
   "metadata": {},
   "outputs": [],
   "source": [
    "dcw.index"
   ]
  },
  {
   "cell_type": "code",
   "execution_count": null,
   "id": "53ab58fa-fcbe-4d2e-b3fe-25a0b271cf65",
   "metadata": {},
   "outputs": [],
   "source": [
    "dcw.columns"
   ]
  },
  {
   "cell_type": "code",
   "execution_count": null,
   "id": "4f64d6af-d108-4bf4-8ce7-9565e99d5e0f",
   "metadata": {},
   "outputs": [],
   "source": [
    "dcw.values"
   ]
  },
  {
   "cell_type": "code",
   "execution_count": null,
   "id": "4ee6849d-90c0-40d2-bc21-8807c72d0884",
   "metadata": {},
   "outputs": [],
   "source": [
    "import pandas as pd"
   ]
  },
  {
   "cell_type": "code",
   "execution_count": null,
   "id": "df9a70ae-45e0-42be-8cd9-e6df2e6e6cc3",
   "metadata": {},
   "outputs": [],
   "source": [
    "data= pd.read_csv(\"pokemon_data.csv\")\n",
    "data"
   ]
  },
  {
   "cell_type": "code",
   "execution_count": null,
   "id": "97e254f2-2631-4b3e-a220-5c3e0fd1a09d",
   "metadata": {},
   "outputs": [],
   "source": []
  },
  {
   "cell_type": "code",
   "execution_count": null,
   "id": "53099629-34e4-46fe-95e7-7ce5f7af578d",
   "metadata": {},
   "outputs": [],
   "source": [
    "data= pd.read_csv(\"DATACSV/pokemon_data.csv\")\n",
    "data"
   ]
  },
  {
   "cell_type": "code",
   "execution_count": null,
   "id": "ced2ea52-cdf7-42f9-b93d-66d6c270e888",
   "metadata": {},
   "outputs": [],
   "source": [
    "data[\"Name\"]"
   ]
  },
  {
   "cell_type": "code",
   "execution_count": null,
   "id": "85d43d4b-9fe8-4678-af6f-4299b979cc36",
   "metadata": {},
   "outputs": [],
   "source": [
    "data[\"Type 1\"]"
   ]
  },
  {
   "cell_type": "code",
   "execution_count": null,
   "id": "7ba132db-9d4a-40ac-a760-2a2fdfe566c6",
   "metadata": {},
   "outputs": [],
   "source": [
    "data.loc[0:3,\"Type 1\"]"
   ]
  },
  {
   "cell_type": "code",
   "execution_count": null,
   "id": "efe7ce64-7691-49e7-af0b-c997be805181",
   "metadata": {},
   "outputs": [],
   "source": [
    "data.columns"
   ]
  },
  {
   "cell_type": "code",
   "execution_count": null,
   "id": "007e60b6-1f8d-42e7-9b14-659b3db7ed45",
   "metadata": {},
   "outputs": [],
   "source": [
    "data.index"
   ]
  },
  {
   "cell_type": "code",
   "execution_count": null,
   "id": "d47ecfc7-03d2-4ef8-a633-47323a4541dd",
   "metadata": {},
   "outputs": [],
   "source": [
    "data.shape"
   ]
  },
  {
   "cell_type": "code",
   "execution_count": null,
   "id": "ccff397b-ec77-4a78-b878-e7447f99ea72",
   "metadata": {},
   "outputs": [],
   "source": [
    "data.info()"
   ]
  },
  {
   "cell_type": "code",
   "execution_count": null,
   "id": "d9bc1204-1b44-410f-baf7-7cfe0552a2d2",
   "metadata": {},
   "outputs": [],
   "source": [
    "data[\"Attack\"].astype(\"float64\")"
   ]
  },
  {
   "cell_type": "code",
   "execution_count": null,
   "id": "a5b86795-6f65-4ddc-9b02-58bfc399e9ea",
   "metadata": {},
   "outputs": [],
   "source": [
    "data.head()"
   ]
  },
  {
   "cell_type": "code",
   "execution_count": null,
   "id": "6a63dca2-9f27-4b28-85c6-48e9134f7617",
   "metadata": {},
   "outputs": [],
   "source": [
    "data[\"Attack\"].dtype"
   ]
  },
  {
   "cell_type": "code",
   "execution_count": null,
   "id": "4cde4046-eb83-4e3d-95c7-c3cb90e40248",
   "metadata": {},
   "outputs": [],
   "source": [
    "data.head(12)"
   ]
  },
  {
   "cell_type": "code",
   "execution_count": null,
   "id": "97520e3e-5187-4c19-8415-b3b020bf638c",
   "metadata": {},
   "outputs": [],
   "source": [
    "data.tail()"
   ]
  },
  {
   "cell_type": "code",
   "execution_count": null,
   "id": "d3e06882-5e09-496a-8f11-12fcfca5699e",
   "metadata": {},
   "outputs": [],
   "source": [
    "data.tail(8)"
   ]
  },
  {
   "cell_type": "code",
   "execution_count": null,
   "id": "adff0aef-af2e-49b4-a298-17646df2f48b",
   "metadata": {},
   "outputs": [],
   "source": [
    "test_data=data.copy()\n",
    "test_data"
   ]
  },
  {
   "cell_type": "code",
   "execution_count": null,
   "id": "795a5a9e-da6f-4bff-928a-60d7eb107242",
   "metadata": {},
   "outputs": [],
   "source": [
    "test_data.head()\n"
   ]
  },
  {
   "cell_type": "code",
   "execution_count": null,
   "id": "be112bdb-e5a3-421a-a9e7-63546cc2a178",
   "metadata": {},
   "outputs": [],
   "source": [
    "test_data[\"TOTAL\"]=test_data[\"HP\"]+test_data[\"Attack\"]\n",
    "test_data.head()\n"
   ]
  },
  {
   "cell_type": "code",
   "execution_count": null,
   "id": "9a31a3fb-3df6-4563-8e38-e2a9fd25d312",
   "metadata": {},
   "outputs": [],
   "source": [
    "import pandas as pd"
   ]
  },
  {
   "cell_type": "code",
   "execution_count": null,
   "id": "50f4da29-900e-435c-b67d-20ffee41dbc4",
   "metadata": {},
   "outputs": [],
   "source": [
    "data= pd.read_csv(\"DATACSV/pokemon_data.csv\")\n",
    "data"
   ]
  },
  {
   "cell_type": "code",
   "execution_count": null,
   "id": "1bb6ea36-1bfe-4daa-8a9a-9321cc692164",
   "metadata": {},
   "outputs": [],
   "source": [
    "test_data=data.copy()\n",
    "test_data"
   ]
  },
  {
   "cell_type": "code",
   "execution_count": null,
   "id": "0840d464-f5f2-4462-beac-e06ab5485110",
   "metadata": {},
   "outputs": [],
   "source": [
    "test_data[\"Type 1\"]==\"Grass\""
   ]
  },
  {
   "cell_type": "code",
   "execution_count": null,
   "id": "b7925910-4efa-4a75-90f1-7799bdf2bb0f",
   "metadata": {},
   "outputs": [],
   "source": [
    "test_data.loc[test_data[\"Type 1\"]==\"Grass\",:]"
   ]
  },
  {
   "cell_type": "code",
   "execution_count": null,
   "id": "73f19962-2092-49e6-a740-b33d484fe244",
   "metadata": {},
   "outputs": [],
   "source": [
    "test_data.loc[test_data[\"Attack\"]>100]"
   ]
  },
  {
   "cell_type": "code",
   "execution_count": null,
   "id": "06075666-0e23-4600-bb02-59eb36df9091",
   "metadata": {},
   "outputs": [],
   "source": [
    "test_data.loc[:,\"Attack\":\"Speed\"].sum()"
   ]
  },
  {
   "cell_type": "code",
   "execution_count": null,
   "id": "297f71f3-9ce0-4624-abfb-2c3d893ddcd2",
   "metadata": {},
   "outputs": [],
   "source": [
    "test_data.loc[:,\"Attack\":\"Speed\"].sum(axis=1)"
   ]
  },
  {
   "cell_type": "code",
   "execution_count": null,
   "id": "ea78ee2e-c40b-4332-a59d-f845027f9041",
   "metadata": {},
   "outputs": [],
   "source": [
    "test_data[\"total value\"]=test_data.loc[:,\"Attack\":\"Speed\"].sum(axis=1)\n",
    "test_data"
   ]
  },
  {
   "cell_type": "code",
   "execution_count": null,
   "id": "e3e9d910-5a48-46cb-aae8-24aa3f5601c2",
   "metadata": {},
   "outputs": [],
   "source": [
    "test_data.loc[test_data[\"total value\"]>450,:]"
   ]
  },
  {
   "cell_type": "code",
   "execution_count": null,
   "id": "7b8eb914-4e1f-4a73-8d6a-f6c277d706c4",
   "metadata": {},
   "outputs": [],
   "source": [
    "test_data.loc[:,\"Attack\":\"Speed\"].mean(axis=1)"
   ]
  },
  {
   "cell_type": "code",
   "execution_count": null,
   "id": "03874e9d-8192-4a30-9b37-057472cd3d54",
   "metadata": {},
   "outputs": [],
   "source": [
    "test_data[\"avg value\"]=test_data.loc[:,\"Attack\":\"Speed\"].mean(axis=1)\n",
    "test_data"
   ]
  },
  {
   "cell_type": "code",
   "execution_count": null,
   "id": "e051137f-d382-4473-91d7-dc916c7a630b",
   "metadata": {},
   "outputs": [],
   "source": [
    "test_data.loc[test_data[\"avg value\"]>110,:]"
   ]
  },
  {
   "cell_type": "code",
   "execution_count": null,
   "id": "3ccf0f0b-3459-43f9-bfcf-eb0215f524ad",
   "metadata": {},
   "outputs": [],
   "source": [
    "test_data.loc[(test_data[\"Type 1\"]==\"Grass\")&(test_data[\"Attack\"]>100),:]"
   ]
  },
  {
   "cell_type": "code",
   "execution_count": null,
   "id": "41fff1ae-093d-4bf8-8a35-c59efa1f0a0e",
   "metadata": {},
   "outputs": [],
   "source": [
    "test_data.loc[(test_data[\"Type 1\"]!=\"Grass\")&(test_data[\"Attack\"]>100),:]\n"
   ]
  },
  {
   "cell_type": "code",
   "execution_count": null,
   "id": "9c49c7c6-40ae-465a-9e14-f665173ea929",
   "metadata": {},
   "outputs": [],
   "source": [
    "import pandas as pd"
   ]
  },
  {
   "cell_type": "code",
   "execution_count": null,
   "id": "9a6b47c5-f74f-4094-96e0-b85a51d08c0c",
   "metadata": {},
   "outputs": [],
   "source": [
    "data= pd.read_csv(\"DATACSV/pokemon_data.csv\")\n",
    "data"
   ]
  },
  {
   "cell_type": "code",
   "execution_count": null,
   "id": "b22ff377-5a43-48a4-a817-32adef71a321",
   "metadata": {},
   "outputs": [],
   "source": [
    "test_data=data.copy()\n",
    "test_data"
   ]
  },
  {
   "cell_type": "code",
   "execution_count": null,
   "id": "cb72bfe5-e08b-4fb6-ba1e-74f27d6bea02",
   "metadata": {},
   "outputs": [],
   "source": [
    "test_data.loc[(test_data[\"Type 1\"]==\"Grass\")|(test_data[\"Attack\"]<80),:]\n"
   ]
  },
  {
   "cell_type": "code",
   "execution_count": null,
   "id": "8b6f3f85-3b6f-40eb-80f3-d92fc6bf6fa6",
   "metadata": {},
   "outputs": [],
   "source": [
    "test_data.loc[~((test_data[\"Type 1\"]==\"Grass\")|(test_data[\"Attack\"]<80)),:]\n"
   ]
  },
  {
   "cell_type": "code",
   "execution_count": null,
   "id": "1812a8da-6369-49f4-81c0-a721634202b3",
   "metadata": {},
   "outputs": [],
   "source": [
    "test_data.loc[~(test_data[\"Type 1\"]==\"Grass\")]"
   ]
  },
  {
   "cell_type": "code",
   "execution_count": null,
   "id": "d64187a1-3a4f-4b64-bf4f-4106d38829bb",
   "metadata": {},
   "outputs": [],
   "source": [
    "test_data.describe()"
   ]
  },
  {
   "cell_type": "code",
   "execution_count": null,
   "id": "b65c0312-c954-472e-a71e-64ff5b0ef8fd",
   "metadata": {},
   "outputs": [],
   "source": [
    "test_data.isna()"
   ]
  },
  {
   "cell_type": "code",
   "execution_count": null,
   "id": "da04efad-14e6-4fc3-97bb-7b49ad64835a",
   "metadata": {},
   "outputs": [],
   "source": [
    "test_data.isna().sum()\n"
   ]
  },
  {
   "cell_type": "code",
   "execution_count": null,
   "id": "9db60c07-6cf3-45ed-8fcf-5fd186501481",
   "metadata": {},
   "outputs": [],
   "source": [
    "type_2_mode=test_data[\"Type 2\"].mode()[0]\n",
    "type_2_mode"
   ]
  },
  {
   "cell_type": "code",
   "execution_count": null,
   "id": "37a79293-8d71-4a57-acb9-717e3d66efe4",
   "metadata": {},
   "outputs": [],
   "source": [
    "test_data[\"Type 2\"].fillna(type_2_mode)"
   ]
  },
  {
   "cell_type": "code",
   "execution_count": null,
   "id": "7c28a475-fc3f-4407-a3eb-1663f69c3f0b",
   "metadata": {},
   "outputs": [],
   "source": [
    "hp_mean=test_data[\"HP\"].mean()\n",
    "test_data[\"HP\"].fillna(hp_mean)"
   ]
  },
  {
   "cell_type": "code",
   "execution_count": null,
   "id": "296d3727-c6d3-46fe-a937-3906efc0b132",
   "metadata": {},
   "outputs": [],
   "source": [
    "hp_median=test_data[\"HP\"].median()\n",
    "test_data[\"HP\"].fillna(hp_median)"
   ]
  },
  {
   "cell_type": "code",
   "execution_count": null,
   "id": "cf2b7765-3f4f-481d-bad0-d83c00394227",
   "metadata": {},
   "outputs": [],
   "source": [
    "test_data[\"Type 2\"].fillna(method=\"ffill\").head(10)"
   ]
  },
  {
   "cell_type": "code",
   "execution_count": null,
   "id": "e108d55d-e89d-41ed-895e-03eace5e7f99",
   "metadata": {},
   "outputs": [],
   "source": [
    "test_data[\"Type 2\"].fillna(method=\"bfill\").head(20)"
   ]
  },
  {
   "cell_type": "code",
   "execution_count": null,
   "id": "3f4d9778-c104-4b75-a7e4-fa095793bbbc",
   "metadata": {},
   "outputs": [],
   "source": [
    "test_data[\"Type 1\"].value_counts()"
   ]
  },
  {
   "cell_type": "code",
   "execution_count": null,
   "id": "0b67027c-6b4c-4035-a67b-35d3bcefa7a7",
   "metadata": {},
   "outputs": [],
   "source": [
    "test_data[\"Type 1\"].unique()"
   ]
  },
  {
   "cell_type": "code",
   "execution_count": null,
   "id": "84a57afe-4827-4961-b58b-aed375c307ce",
   "metadata": {},
   "outputs": [],
   "source": [
    "test_data[\"Type 1\"].nunique()"
   ]
  },
  {
   "cell_type": "code",
   "execution_count": null,
   "id": "961f2088-d0b5-425a-843f-1d612389cbb7",
   "metadata": {},
   "outputs": [],
   "source": [
    "import pandas as pd"
   ]
  },
  {
   "cell_type": "code",
   "execution_count": null,
   "id": "de82fb65-fa56-41c4-b53c-cb4a9cfd4952",
   "metadata": {},
   "outputs": [],
   "source": [
    "data= pd.read_csv(\"DATACSV/pokemon_data.csv\")\n",
    "data"
   ]
  },
  {
   "cell_type": "code",
   "execution_count": null,
   "id": "8246c131-cc67-4821-9469-524b104364cd",
   "metadata": {},
   "outputs": [],
   "source": [
    "data[\"Type 1\"].str.upper()"
   ]
  },
  {
   "cell_type": "code",
   "execution_count": null,
   "id": "885be290-e7c1-42a4-9ff3-91e5121b3db2",
   "metadata": {},
   "outputs": [],
   "source": [
    "data[\"Type 1\"].str.replace(\"Grass\",\"grass\")"
   ]
  },
  {
   "cell_type": "code",
   "execution_count": null,
   "id": "4b1f4583-6bd4-4711-b7e9-49600b8a7dd0",
   "metadata": {},
   "outputs": [],
   "source": [
    "data[\"Type 1\"].str.startswith(\"Gr\")"
   ]
  },
  {
   "cell_type": "code",
   "execution_count": null,
   "id": "e328e10f-3018-48fc-9109-f818685461c8",
   "metadata": {},
   "outputs": [],
   "source": [
    "data.loc[data[\"Type 1\"].str.startswith(\"Gr\"),:]"
   ]
  },
  {
   "cell_type": "code",
   "execution_count": null,
   "id": "65bffe9c-9097-4829-bc95-6be065d1275f",
   "metadata": {},
   "outputs": [],
   "source": [
    "data.loc[data[\"Type 1\"].str.startswith(\"n\"),:]"
   ]
  },
  {
   "cell_type": "code",
   "execution_count": null,
   "id": "55279041-0882-432a-9267-4d83faf9d303",
   "metadata": {},
   "outputs": [],
   "source": [
    "data.loc[data[\"Type 1\"].str.contains(\"ras\"),:]"
   ]
  },
  {
   "cell_type": "code",
   "execution_count": null,
   "id": "41101b2c-f0c9-46f8-9985-6f097810e702",
   "metadata": {},
   "outputs": [],
   "source": [
    "\"asd\" in [\"asd\",\"llkh\",\"fgt\"]"
   ]
  },
  {
   "cell_type": "code",
   "execution_count": null,
   "id": "9f138825-5bfb-4310-aeed-cfb575324475",
   "metadata": {},
   "outputs": [],
   "source": [
    "import pandas as pd"
   ]
  },
  {
   "cell_type": "code",
   "execution_count": null,
   "id": "fcabbae7-3525-4d2b-a9f6-c0c99a6eee51",
   "metadata": {},
   "outputs": [],
   "source": [
    "data= pd.read_csv(\"DATACSV/pokemon_data.csv\")\n",
    "data"
   ]
  },
  {
   "cell_type": "code",
   "execution_count": null,
   "id": "491432b2-b912-426a-8cf6-6bdcd40a86cc",
   "metadata": {},
   "outputs": [],
   "source": [
    "data[\"Type 1\"].isin([\"Grass\",\"Poison\",\"Rock\"])"
   ]
  },
  {
   "cell_type": "code",
   "execution_count": null,
   "id": "f4d41e53-8b0e-497e-ba0f-eb2f880e340e",
   "metadata": {},
   "outputs": [],
   "source": [
    "data.loc[data[\"Type 1\"].isin([\"Grass\",\"Poison\",\"Rock\"]),:]"
   ]
  },
  {
   "cell_type": "code",
   "execution_count": null,
   "id": "446e37ac-5bac-4784-89ff-b9e3202a2d73",
   "metadata": {},
   "outputs": [],
   "source": [
    "data.loc[data.duplicated(),:]"
   ]
  },
  {
   "cell_type": "code",
   "execution_count": null,
   "id": "5d26c969-e02e-4d94-81ef-bf49a35700b3",
   "metadata": {},
   "outputs": [],
   "source": [
    "data.drop_duplicates()"
   ]
  },
  {
   "cell_type": "code",
   "execution_count": null,
   "id": "90b71bb4-b08f-4997-aff6-5c4944d528a9",
   "metadata": {},
   "outputs": [],
   "source": [
    "data.isna()"
   ]
  },
  {
   "cell_type": "code",
   "execution_count": null,
   "id": "9fcfaeb5-116a-4fc4-8738-6d27dba0f088",
   "metadata": {},
   "outputs": [],
   "source": [
    "data.loc[data[\"Type 2\"].isna(),:]"
   ]
  },
  {
   "cell_type": "code",
   "execution_count": null,
   "id": "ea8610a2-dbff-42c9-a1e2-d4d7dc0a28c0",
   "metadata": {},
   "outputs": [],
   "source": [
    "data.loc[~(data[\"Type 2\"].isna()),:]"
   ]
  },
  {
   "cell_type": "code",
   "execution_count": null,
   "id": "29b25d9d-78e0-47b8-80c7-49e82052aea6",
   "metadata": {},
   "outputs": [],
   "source": [
    "import pandas as pd"
   ]
  },
  {
   "cell_type": "code",
   "execution_count": null,
   "id": "1c446774-4f7d-4a14-aef2-d506ea9f2d4b",
   "metadata": {},
   "outputs": [],
   "source": [
    "data= pd.read_csv(\"DATACSV/pokemon_data.csv\")\n",
    "data"
   ]
  },
  {
   "cell_type": "code",
   "execution_count": null,
   "id": "fa093e28-d51e-4c92-a347-485a87b9a61c",
   "metadata": {},
   "outputs": [],
   "source": [
    "data.groupby(\"Type 1\")[\"Attack\"].mean()"
   ]
  },
  {
   "cell_type": "code",
   "execution_count": null,
   "id": "8960842b-3522-4785-9d46-52271ad3b25b",
   "metadata": {},
   "outputs": [],
   "source": [
    "data.groupby(\"Type 1\")[\"Attack\"].mean().reset_index()"
   ]
  },
  {
   "cell_type": "code",
   "execution_count": null,
   "id": "fc5a7325-741a-4e3e-8505-fbc0da4270f1",
   "metadata": {},
   "outputs": [],
   "source": [
    "data.groupby([\"Type 1\",\"Legendary\"])[\"Attack\"].mean()"
   ]
  },
  {
   "cell_type": "code",
   "execution_count": null,
   "id": "259ec73d-0064-45e3-aa22-a339732369f6",
   "metadata": {},
   "outputs": [],
   "source": [
    "data.groupby([\"Type 1\",\"Legendary\"])[\"Attack\"].mean().reset_index()"
   ]
  },
  {
   "cell_type": "code",
   "execution_count": null,
   "id": "3b04fcfc-5238-40ec-8f63-d2c1698859a0",
   "metadata": {},
   "outputs": [],
   "source": [
    "data.groupby([\"Type 1\",\"Legendary\"])[['Attack','Defense','Sp. Atk','Sp. Def','Speed']].mean().reset_index()"
   ]
  },
  {
   "cell_type": "code",
   "execution_count": null,
   "id": "22362169-fc29-43e1-8b19-5206d2de01e9",
   "metadata": {},
   "outputs": [],
   "source": [
    "data.sort_values(\"Attack\")"
   ]
  },
  {
   "cell_type": "code",
   "execution_count": null,
   "id": "2bf5f645-b606-49e2-b3cf-f30e077e28c4",
   "metadata": {},
   "outputs": [],
   "source": [
    "data.sort_values(\"Attack\",ascending=False)"
   ]
  },
  {
   "cell_type": "code",
   "execution_count": null,
   "id": "c3304c79-d409-4531-994c-f8600c696667",
   "metadata": {},
   "outputs": [],
   "source": [
    "data.sort_values([\"Attack\",\"HP\"],ascending=False)"
   ]
  },
  {
   "cell_type": "code",
   "execution_count": null,
   "id": "8aafa5ad-95b9-4d75-99cb-1cbdbfb26fda",
   "metadata": {},
   "outputs": [],
   "source": [
    "import pandas as pd"
   ]
  },
  {
   "cell_type": "code",
   "execution_count": null,
   "id": "ea300de3-f029-43e3-a679-a1d4446b5d75",
   "metadata": {},
   "outputs": [],
   "source": [
    "data= pd.read_csv(\"DATACSV/pokemon_data.csv\")\n",
    "data"
   ]
  },
  {
   "cell_type": "code",
   "execution_count": null,
   "id": "d3827862-ba3c-480f-96e4-e9f6d732ba79",
   "metadata": {},
   "outputs": [],
   "source": [
    "a={\"ROLL\":[1,2,3], \"NAME\":[\"RAM\", \"RAHIM\", \"TINA\"], \"MARKS\":[50,45,63]}\n",
    "b={\"ROLL\":[4,5,6], \"NAME\":[\"RAM\", \"RAHIM\", \"NEELA\"], \"MARKS\":[52,44,69]}\n",
    "df1=pd.DataFrame(a)\n",
    "df2=pd.DataFrame(b)"
   ]
  },
  {
   "cell_type": "code",
   "execution_count": null,
   "id": "74b34f53-e088-44d9-88a1-ab6c544569f5",
   "metadata": {},
   "outputs": [],
   "source": [
    "df1"
   ]
  },
  {
   "cell_type": "code",
   "execution_count": null,
   "id": "734ec930-7cb7-4987-91a7-4e433554355f",
   "metadata": {},
   "outputs": [],
   "source": [
    "df2"
   ]
  },
  {
   "cell_type": "code",
   "execution_count": null,
   "id": "ef8c2cac-723f-4546-8e50-632da24f0458",
   "metadata": {},
   "outputs": [],
   "source": [
    "pd.concat([df1,df2])"
   ]
  },
  {
   "cell_type": "code",
   "execution_count": null,
   "id": "6266adf0-0f60-4f6f-a1b6-1f526340d797",
   "metadata": {},
   "outputs": [],
   "source": [
    "pd.concat([df1,df2],axis=1)"
   ]
  },
  {
   "cell_type": "code",
   "execution_count": null,
   "id": "85d6c9c5-c7de-4a3c-83a7-18b6581d498e",
   "metadata": {},
   "outputs": [],
   "source": [
    "df=pd.concat([df1,df2]).reset_index(drop=True)\n",
    "df"
   ]
  },
  {
   "cell_type": "code",
   "execution_count": null,
   "id": "bb102a1f-1c0e-4e81-be00-fee865653851",
   "metadata": {},
   "outputs": [],
   "source": [
    "car_Price={\"Company\":[\"Toyota\", \"BMW\", \"Honda\", \"Audi\", \"Tesla\"], \"Price\":[53555,452523,833654,546534,444796]}\n",
    "car_PriceDf=pd.DataFrame.from_dict(car_Price)\n",
    "car_Horsepower={\"Company\":[\"Toyota\", \"BMW\", \"Honda\", \"Audi\", \"Maruti\"],\"Horsepower\":[555,523,654,534,796]}\n",
    "car_HorsepowerDf=pd.DataFrame.from_dict(car_Horsepower)"
   ]
  },
  {
   "cell_type": "code",
   "execution_count": null,
   "id": "b265cc60-857b-4477-95c0-bac87f5434ea",
   "metadata": {},
   "outputs": [],
   "source": [
    "car_PriceDf"
   ]
  },
  {
   "cell_type": "code",
   "execution_count": null,
   "id": "5f0d5c42-e3c6-4de8-be01-ceeffd3cf704",
   "metadata": {},
   "outputs": [],
   "source": [
    "car_HorsepowerDf"
   ]
  },
  {
   "cell_type": "code",
   "execution_count": null,
   "id": "2121b854-bda4-40b7-ad64-15dfa5e5ab6d",
   "metadata": {},
   "outputs": [],
   "source": [
    "\n",
    "car_PriceDf.merge(car_HorsepowerDf,on=\"Company\",how=\"right\")"
   ]
  },
  {
   "cell_type": "code",
   "execution_count": null,
   "id": "0683a24b-4fe8-45b4-bec0-d942826cd6b0",
   "metadata": {},
   "outputs": [],
   "source": [
    "car_PriceDf.merge(car_HorsepowerDf,on=\"Company\",how=\"left\")"
   ]
  },
  {
   "cell_type": "code",
   "execution_count": null,
   "id": "4b5e7642-9744-4570-aca5-a718feb2cc25",
   "metadata": {},
   "outputs": [],
   "source": [
    "car_PriceDf.merge(car_HorsepowerDf,on=\"Company\",how=\"inner\")"
   ]
  },
  {
   "cell_type": "code",
   "execution_count": null,
   "id": "5a0bf91b-87c0-4e7c-b6b1-8c6269002cbd",
   "metadata": {},
   "outputs": [],
   "source": [
    "car_PriceDf.merge(car_HorsepowerDf,on=\"Company\",how=\"outer\")"
   ]
  },
  {
   "cell_type": "code",
   "execution_count": null,
   "id": "afecee70-e674-4062-8297-7721198dec51",
   "metadata": {},
   "outputs": [],
   "source": [
    "import pandas as pd"
   ]
  },
  {
   "cell_type": "code",
   "execution_count": null,
   "id": "388af1ad-a6f6-4d29-8c4a-2f9dea2e77eb",
   "metadata": {},
   "outputs": [],
   "source": [
    "car_Price={\"Company\":[\"Toyota\", \"BMW\", \"Honda\", \"Audi\", \"Tesla\"], \"Price\":[53555,452523,833654,546534,444796]}\n",
    "car_PriceDf=pd.DataFrame.from_dict(car_Price)\n",
    "car_Horsepower={\"Company\":[\"Toyota\", \"BMW\", \"Honda\", \"Audi\", \"Maruti\"],\"Horsepower\":[555,523,654,534,796]}\n",
    "car_HorsepowerDf=pd.DataFrame.from_dict(car_Horsepower)"
   ]
  },
  {
   "cell_type": "code",
   "execution_count": null,
   "id": "5954f505-d835-4c6e-83a6-b1a29cb5e216",
   "metadata": {},
   "outputs": [],
   "source": [
    "car_PriceDf"
   ]
  },
  {
   "cell_type": "code",
   "execution_count": null,
   "id": "140dff2d-32da-48b7-b3d2-d7cc1e81cd69",
   "metadata": {},
   "outputs": [],
   "source": [
    "def f1st_letter(x):\n",
    "    return x[0]\n",
    "car_PriceDf[\"1st_l\"]=car_PriceDf[\"Company\"].apply(f1st_letter)\n"
   ]
  },
  {
   "cell_type": "code",
   "execution_count": null,
   "id": "60355dde-5cf3-430d-9e9a-a6158e1ef783",
   "metadata": {},
   "outputs": [],
   "source": [
    "car_PriceDf"
   ]
  },
  {
   "cell_type": "code",
   "execution_count": null,
   "id": "9e0b38f9-d47d-411f-af9b-bf4554a11596",
   "metadata": {},
   "outputs": [],
   "source": [
    "def f1st_letter(x):\n",
    "    return x[:3]\n",
    "car_PriceDf[\"Slicing_3l\"]=car_PriceDf[\"Company\"].apply(f1st_letter)\n",
    "car_PriceDf"
   ]
  },
  {
   "cell_type": "code",
   "execution_count": null,
   "id": "de6d04e4-5908-41e0-b376-b6b44e9f9248",
   "metadata": {},
   "outputs": [],
   "source": [
    "data= pd.read_csv(\"DATACSV/pokemon_data.csv\")\n",
    "data"
   ]
  },
  {
   "cell_type": "code",
   "execution_count": null,
   "id": "310b18d4-fc7a-4d99-a3b8-b6763d1c229e",
   "metadata": {},
   "outputs": [],
   "source": [
    "def speed_category_(x):\n",
    "    if x>=100:\n",
    "        return \"High speed\"\n",
    "    elif x>=80:\n",
    "        return \"Medium Speed\"\n",
    "    elif x>=60:\n",
    "        return \"Low speed\"\n",
    "    else:\n",
    "        return \"Slow\"\n",
    "data[\"Speed_Category\"]=data[\"Speed\"].apply(speed_category_)\n",
    "data"
   ]
  },
  {
   "cell_type": "code",
   "execution_count": null,
   "id": "9f9dd2a3-da04-438c-9949-3ecd87396494",
   "metadata": {},
   "outputs": [],
   "source": [
    "def speed_category_(x,num1,text,num2):\n",
    "    if x>=100:\n",
    "        return f\"High speed {num1} {text} {num2}\"\n",
    "    elif x>=80:\n",
    "        return f\"Medium Speed {num1} {text} {num2}\"\n",
    "    elif x>=60:\n",
    "        return f\"Low speed {num1} {text} {num2}\"\n",
    "    else:\n",
    "        return f\"Slow {num1} {text} {num2}\"\n",
    "data[\"Speed_Category\"]=data[\"Speed\"].apply(speed_category_, args=(10,\"POK\",45))\n",
    "data"
   ]
  },
  {
   "cell_type": "code",
   "execution_count": null,
   "id": "2466a224-fc76-4de8-92e3-fadbe5dc9bd0",
   "metadata": {},
   "outputs": [],
   "source": [
    "!pip install matplotlib seaborn"
   ]
  },
  {
   "cell_type": "code",
   "execution_count": null,
   "id": "18f79a9f-cd1f-48ec-900f-581ba1a4b1ce",
   "metadata": {},
   "outputs": [],
   "source": [
    "!dir"
   ]
  },
  {
   "cell_type": "code",
   "execution_count": null,
   "id": "ba41fbf0-54c2-482a-bbb0-ab6ac788180a",
   "metadata": {},
   "outputs": [],
   "source": [
    "import pandas as pd"
   ]
  },
  {
   "cell_type": "code",
   "execution_count": null,
   "id": "ae8fd93d-43bc-4544-928e-297ee416b164",
   "metadata": {},
   "outputs": [],
   "source": [
    "data= pd.read_csv(\"DATACSV/pokemon_data.csv\")\n",
    "data"
   ]
  },
  {
   "cell_type": "code",
   "execution_count": null,
   "id": "4ec056b0-0b45-47d7-abb9-46f540e608ba",
   "metadata": {},
   "outputs": [],
   "source": [
    "import matplotlib.pyplot as plt"
   ]
  },
  {
   "cell_type": "code",
   "execution_count": null,
   "id": "e569ff2c-fdb0-4321-a396-1ec7f6308aca",
   "metadata": {},
   "outputs": [],
   "source": [
    "plt.plot(data[\"HP\"].sort_values(),data[\"Attack\"].sort_values())"
   ]
  },
  {
   "cell_type": "code",
   "execution_count": null,
   "id": "2ba85185-57e4-4e3e-ad75-28b2f9699d67",
   "metadata": {},
   "outputs": [],
   "source": [
    "plt.plot(data[\"HP\"].sort_values(),data[\"Attack\"])"
   ]
  },
  {
   "cell_type": "code",
   "execution_count": null,
   "id": "c780f66f-0649-4e86-83e1-8fc9afda4cac",
   "metadata": {},
   "outputs": [],
   "source": [
    "x=[1,2,3,4,5,6,7,8,9]\n",
    "y=[7,9,8,6,4,5,1,3,2]\n",
    "plt.plot(x,y)"
   ]
  },
  {
   "cell_type": "code",
   "execution_count": null,
   "id": "e726c1d6-0340-4296-8aa2-ffec1ecff586",
   "metadata": {},
   "outputs": [],
   "source": [
    "x=[1,2,3,4,5,6,7,8,9]\n",
    "y=[7,9,8,6,4,5,1,3,2]\n",
    "plt.plot(x,y,color=\"green\")"
   ]
  },
  {
   "cell_type": "code",
   "execution_count": null,
   "id": "8f9e38b0-2eea-4e8c-b8f7-4f1838fdabd4",
   "metadata": {},
   "outputs": [],
   "source": [
    "x=[1,2,3,4,5,6,7,8,9]\n",
    "y=[7,9,8,6,4,5,1,3,2]\n",
    "plt.plot(x,y,color=\"#a21025\")"
   ]
  },
  {
   "cell_type": "code",
   "execution_count": null,
   "id": "21af91a6-a98f-43e3-9eaa-e50d4c331123",
   "metadata": {},
   "outputs": [],
   "source": [
    "x=[1,2,3,4,5,6,7,8,9]\n",
    "y=[7,9,8,6,4,5,1,3,2]\n",
    "plt.plot(x,y,color=\"#a21025\")\n",
    "plt.xlabel(\"X AXIS\")\n",
    "plt.ylabel(\"Y AXIS\")\n"
   ]
  },
  {
   "cell_type": "code",
   "execution_count": null,
   "id": "0440044f-48a3-4566-a888-d347e8d40566",
   "metadata": {},
   "outputs": [],
   "source": [
    "x=[1,2,3,4,5,6,7,8,9]\n",
    "y=[7,9,8,6,4,5,1,3,2]\n",
    "plt.plot(x,y,color=\"#a21025\")\n",
    "plt.xlabel(\"X AXIS\")\n",
    "plt.ylabel(\"Y AXIS\")\n",
    "plt.title(\"LINE PLOT\")"
   ]
  },
  {
   "cell_type": "code",
   "execution_count": null,
   "id": "13dab78d-b2d1-41e0-9c5b-2a5f80f73eef",
   "metadata": {},
   "outputs": [],
   "source": [
    "x=[1,2,3,4,5,6,7,8,9]\n",
    "y=[7,9,8,6,4,5,1,3,2]\n",
    "plt.figure(figsize=(10,2))\n",
    "plt.plot(x,y,color=\"#a21025\")\n",
    "plt.xlabel(\"X AXIS\")\n",
    "plt.ylabel(\"Y AXIS\")\n",
    "plt.title(\"LINE PLOT\")\n",
    "plt.show()"
   ]
  },
  {
   "cell_type": "code",
   "execution_count": null,
   "id": "b1f0e520-8213-473f-b87b-febc071ef0df",
   "metadata": {},
   "outputs": [],
   "source": [
    "x1=[1,2,3,4,5,6,7,8,9]\n",
    "y1=[7,9,8,6,4,5,1,3,2]\n",
    "x2=[1,2,3,4,5,6,7,8,9]\n",
    "y2=[2,9,6,8,4,1,5,3,7]\n",
    "plt.figure(figsize=(10,2))\n",
    "plt.plot(x1,y1,color=\"#a21025\",label=\"category1\")\n",
    "plt.plot(x2,y2,color=\"yellow\",label=\"category2\")\n",
    "plt.xlabel(\"X AXIS\")\n",
    "plt.ylabel(\"Y AXIS\")\n",
    "plt.title(\"LINE PLOT\")\n",
    "plt.legend()\n",
    "plt.show()"
   ]
  },
  {
   "cell_type": "code",
   "execution_count": null,
   "id": "5b6b4a77-6d6f-43b7-83ad-046d9eb1c94e",
   "metadata": {},
   "outputs": [],
   "source": [
    "x1=[1,2,3,4,5,6,7,8,9]\n",
    "y1=[7,9,8,6,4,5,1,3,2]\n",
    "x2=[1,2,3,4,5,6,7,8,9]\n",
    "y2=[2,9,6,8,4,1,5,3,7]\n",
    "plt.figure(figsize=(10,2))\n",
    "plt.plot(x1,y1,color=\"#a21025\",label=\"category1\",marker=\"s\")\n",
    "plt.plot(x2,y2,color=\"yellow\",label=\"category2\",marker=\"o\")\n",
    "plt.xlabel(\"X AXIS\")\n",
    "plt.ylabel(\"Y AXIS\")\n",
    "plt.title(\"LINE PLOT\")\n",
    "plt.legend()\n",
    "plt.show()"
   ]
  },
  {
   "cell_type": "code",
   "execution_count": null,
   "id": "641feb80-e0dc-4415-bf20-eb767b397ab8",
   "metadata": {},
   "outputs": [],
   "source": [
    "x1=[1,2,3,4,5,6,7,8,9]\n",
    "y1=[7,9,8,6,4,5,1,3,2]\n",
    "x2=[1,2,3,4,5,6,7,8,9]\n",
    "y2=[2,9,6,8,4,1,5,3,7]\n",
    "plt.figure(figsize=(10,2))\n",
    "plt.plot(x1,y1,color=\"#a21025\",label=\"category1\",marker=\"s\",linestyle=\"dashed\")\n",
    "plt.plot(x2,y2,color=\"yellow\",label=\"category2\",marker=\"o\",linestyle=\"dashdot\")\n",
    "plt.xlabel(\"X AXIS\")\n",
    "plt.ylabel(\"Y AXIS\")\n",
    "plt.title(\"LINE PLOT\")\n",
    "plt.legend()\n",
    "plt.show()"
   ]
  },
  {
   "cell_type": "code",
   "execution_count": null,
   "id": "19e9c064-c54f-4e59-8b22-178b4c57b79e",
   "metadata": {},
   "outputs": [],
   "source": [
    "x1=[\"1\",\"2\",\"3\",\"4\",\"5\",\"6\",\"7\",\"8\",\"9\"]\n",
    "y1=[7,9,8,6,4,5,1,3,2]\n",
    "plt.figure(figsize=(4,2))\n",
    "plt.bar(x,y)\n",
    "plt.xlabel(\"X AXIS\")\n",
    "plt.ylabel(\"Y AXIS\")\n",
    "plt.title(\"BAR PLOT\")\n",
    "plt.show()"
   ]
  },
  {
   "cell_type": "code",
   "execution_count": null,
   "id": "0180f559-d497-411d-af5d-d8b0a258f4ad",
   "metadata": {},
   "outputs": [],
   "source": [
    "import pandas as pd"
   ]
  },
  {
   "cell_type": "code",
   "execution_count": null,
   "id": "11802eba-9a20-4a4b-8f4d-e5b7892b3eb7",
   "metadata": {},
   "outputs": [],
   "source": [
    "import matplotlib.pyplot as plt"
   ]
  },
  {
   "cell_type": "code",
   "execution_count": null,
   "id": "20fdb8ab-3b0b-4ace-8612-1f6d847d22bc",
   "metadata": {},
   "outputs": [],
   "source": [
    "x=[1,2,3]\n",
    "y1=[4,5,6]\n",
    "y2=[7,8,9]\n",
    "plt.figure(figsize=(2,2))\n",
    "plt.bar(x,y1,label=\"graph1\",color=\"green\")\n",
    "plt.bar(x,y2,label=\"graph2\",color=\"red\",width=0.2)\n",
    "plt.xlabel(\"x label(plot number)\")\n",
    "plt.ylabel(\"y label(data)\")\n",
    "plt.legend()\n",
    "plt.title(\"my cool graph\")\n",
    "plt.show()\n",
    "\n"
   ]
  },
  {
   "cell_type": "code",
   "execution_count": null,
   "id": "e68e8800-8dc0-4f57-b90b-597483cf7f90",
   "metadata": {},
   "outputs": [],
   "source": [
    "salaries=[50000,45000,25000,30000]\n",
    "plt.figure(figsize=(2,2))\n",
    "plt.hist(salaries)\n",
    "plt.xlabel(\"salaries\")\n",
    "plt.ylabel(\"no. of people\")\n",
    "plt.title(\"histogram\")\n",
    "plt.show()"
   ]
  },
  {
   "cell_type": "code",
   "execution_count": null,
   "id": "37e61e5d-44da-438f-84e9-6d3039172020",
   "metadata": {},
   "outputs": [],
   "source": [
    "salaries=[50000,45000,25000,30000]\n",
    "plt.figure(figsize=(2,2))\n",
    "plt.hist(salaries,histtype=\"step\")\n",
    "plt.xlabel(\"salaries\")\n",
    "plt.ylabel(\"no. of people\")\n",
    "plt.title(\"histogram\")\n",
    "plt.show()"
   ]
  },
  {
   "cell_type": "code",
   "execution_count": null,
   "id": "e941d671-3968-433e-b844-4393e501c71d",
   "metadata": {},
   "outputs": [],
   "source": [
    "x=[4,5,7,9,10]\n",
    "y=[1,3,6,2,4]\n",
    "y1=[9,7,6,1,5]\n",
    "plt.figure(figsize=(2,2))\n",
    "plt.scatter(x,y,label=\"red\",color=\"red\",marker=\"D\")\n",
    "plt.scatter(x,y1,label=\"green\",color=\"green\",marker=\"h\")\n",
    "plt.xlabel(\"x label\")\n",
    "plt.ylabel(\"y label\")\n",
    "plt.title(\"scattered plot\")\n",
    "plt.legend()\n",
    "plt.show()\n",
    "\n",
    "\n"
   ]
  },
  {
   "cell_type": "code",
   "execution_count": null,
   "id": "f0551047-74e7-4cca-8658-9c70883632da",
   "metadata": {},
   "outputs": [],
   "source": [
    "slices=[10,15,20,25]\n",
    "tasks=[\"mail\",\"review\",\"bug\",\"report\"]\n",
    "plt.figure(figsize=(2,4))\n",
    "plt.pie([10,15,20,25], labels=tasks,autopct=\"%1.2f%%\",explode=(0.2,0.3,0.1,0.4))\n",
    "plt.title(\"pie chart\")\n",
    "plt.legend(loc=\"lower right\")\n",
    "plt.show()"
   ]
  },
  {
   "cell_type": "code",
   "execution_count": null,
   "id": "5882e9a8-7515-4c91-b366-bab7ef698aa3",
   "metadata": {},
   "outputs": [],
   "source": [
    "plt.figure(figsize=(15,15))\n",
    "plt.subplot(2,2,1)\n",
    "x=[1,2,3]\n",
    "y1=[4,5,6]\n",
    "y2=[7,8,9]\n",
    "plt.figure(figsize=(2,2))\n",
    "plt.bar(x,y1,label=\"graph1\",color=\"green\")\n",
    "plt.bar(x,y2,label=\"graph2\",color=\"red\",width=0.2)\n",
    "plt.xlabel(\"x label(plot number)\")\n",
    "plt.ylabel(\"y label(data)\")\n",
    "plt.legend()\n",
    "plt.title(\"my cool graph\")\n",
    "plt.subplot(2,2,2)\n",
    "salaries=[50000,45000,25000,30000]\n",
    "plt.figure(figsize=(2,2))\n",
    "plt.hist(salaries,histtype=\"step\")\n",
    "plt.xlabel(\"salaries\")\n",
    "plt.ylabel(\"no. of people\")\n",
    "plt.title(\"histogram\")\n",
    "plt.subplot(2,2,3)\n",
    "x1=[1,2,3,4,5,6,7,8,9]\n",
    "y1=[7,9,8,6,4,5,1,3,2]\n",
    "x2=[1,2,3,4,5,6,7,8,9]\n",
    "y2=[2,9,6,8,4,1,5,3,7]\n",
    "plt.figure(figsize=(10,2))\n",
    "plt.plot(x1,y1,color=\"#a21025\",label=\"category1\",marker=\"s\",linestyle=\"dashed\")\n",
    "plt.plot(x2,y2,color=\"yellow\",label=\"category2\",marker=\"o\",linestyle=\"dashdot\")\n",
    "plt.xlabel(\"X AXIS\")\n",
    "plt.ylabel(\"Y AXIS\")\n",
    "plt.title(\"LINE PLOT\")\n",
    "plt.legend()\n",
    "plt.subplot(2,2,4)\n",
    "x=[1,2,3]\n",
    "y1=[4,5,6]\n",
    "y2=[7,8,9]\n",
    "plt.figure(figsize=(2,2))\n",
    "plt.bar(x,y1,label=\"graph1\",color=\"green\")\n",
    "plt.bar(x,y2,label=\"graph2\",color=\"red\",width=0.2)\n",
    "plt.xlabel(\"x label(plot number)\")\n",
    "plt.ylabel(\"y label(data)\")\n",
    "plt.legend()\n",
    "plt.title(\"my cool graph\")\n",
    "plt.show()\n",
    "\n",
    "\n",
    "\n",
    "\n"
   ]
  },
  {
   "cell_type": "code",
   "execution_count": null,
   "id": "ff4fef6d-7cdd-4570-a6af-90cc1183d559",
   "metadata": {},
   "outputs": [],
   "source": [
    "import pandas as pd\n",
    "import numpy as np\n",
    "import seaborn as sns\n",
    "df=pd.read_csv(\"iris.csv\")\n",
    "df.head()"
   ]
  },
  {
   "cell_type": "code",
   "execution_count": null,
   "id": "84026a4b-c388-4627-a677-edbee872763b",
   "metadata": {},
   "outputs": [],
   "source": [
    "import matplotlib.pyplot as plt\n"
   ]
  },
  {
   "cell_type": "code",
   "execution_count": null,
   "id": "05f6a734-f102-4225-912d-98384abf1cbe",
   "metadata": {},
   "outputs": [],
   "source": [
    "import pandas as pd\n",
    "import numpy as np\n",
    "import seaborn as sns\n",
    "df=pd.read_csv(\"iris.csv\")\n",
    "df.head()"
   ]
  },
  {
   "cell_type": "code",
   "execution_count": null,
   "id": "6ec1c6ed-0187-4687-aa15-29174c2bff1d",
   "metadata": {},
   "outputs": [],
   "source": [
    "import matplotlib.pyplot as plt\n"
   ]
  },
  {
   "cell_type": "code",
   "execution_count": null,
   "id": "229f0077-aa41-479c-869a-7579b2bc6ed5",
   "metadata": {},
   "outputs": [],
   "source": [
    "import pandas as pd\n",
    "import numpy as np\n",
    "import seaborn as sns\n",
    "df=pd.read_csv(\"iris.csv\")\n",
    "df.head()"
   ]
  },
  {
   "cell_type": "code",
   "execution_count": null,
   "id": "d1b5855a-daea-499d-9f02-36d5b9ed6cd8",
   "metadata": {
    "scrolled": true
   },
   "outputs": [],
   "source": [
    "df[\"species\"].value_counts()"
   ]
  },
  {
   "cell_type": "code",
   "execution_count": null,
   "id": "e57a6822-4f98-4911-9616-93a28548a303",
   "metadata": {},
   "outputs": [],
   "source": [
    "import matplotlib.pyplot as plt\n"
   ]
  },
  {
   "cell_type": "code",
   "execution_count": null,
   "id": "c1cf8761-14da-4fcb-bc82-dc411cdad322",
   "metadata": {},
   "outputs": [],
   "source": [
    "sns.histplot(data=df,x=\"sepalengthcm\")\n",
    "plt.title(\"histogram for sepalengthcm\")\n",
    "plt.show()"
   ]
  },
  {
   "cell_type": "code",
   "execution_count": null,
   "id": "52e6d3f4-dd65-435f-b5bb-66103dae6f75",
   "metadata": {},
   "outputs": [],
   "source": [
    "sns.histplot(data=df,x=\"sepalengthcm\",kde=True)\n",
    "plt.title(\"histogram for sepalengthcm\")\n",
    "plt.show()"
   ]
  },
  {
   "cell_type": "code",
   "execution_count": null,
   "id": "409f0b81-9c65-4535-8605-f9e34e51f779",
   "metadata": {},
   "outputs": [],
   "source": [
    "sns.kdeplot(data=df,x=\"sepalengthcm\")"
   ]
  },
  {
   "cell_type": "code",
   "execution_count": null,
   "id": "6e9223d4-4669-4eed-ab9c-6f73632c3ae9",
   "metadata": {},
   "outputs": [],
   "source": [
    "df.head()"
   ]
  },
  {
   "cell_type": "code",
   "execution_count": null,
   "id": "1afb329f-f036-4ade-a95f-94889cabfd78",
   "metadata": {},
   "outputs": [],
   "source": [
    "plt.hist(df.loc[df[\"species\"]==\"iris_setosa\",\"sepalengthcm\"],label=\"setosa\")\n",
    "plt.hist(df.loc[df[\"species\"]==\"iris_versicolor\",\"sepalengthcm\"],label=\"versicolor\")\n",
    "plt.hist(df.loc[df[\"species\"]==\"iris_virginsica\",\"sepalengthcm\"],label=\"virginsica\")\n",
    "plt.legend()\n",
    "plt.show()"
   ]
  },
  {
   "cell_type": "code",
   "execution_count": null,
   "id": "89013818-10dc-472e-83d7-171840cde08a",
   "metadata": {},
   "outputs": [],
   "source": [
    "sns.histplot(data=df,x=\"sepalengthcm\",hue=\"species\")"
   ]
  },
  {
   "cell_type": "code",
   "execution_count": null,
   "id": "cf536264-eb81-4185-ad0b-895dc8b32301",
   "metadata": {},
   "outputs": [],
   "source": [
    "import pandas as pd\n",
    "import numpy as np\n",
    "import seaborn as sns\n",
    "df=pd.read_csv(\"iris.csv\")\n",
    "df.head()"
   ]
  },
  {
   "cell_type": "code",
   "execution_count": null,
   "id": "efd2d2a7-bed1-491a-ac2d-128b97ed5fd7",
   "metadata": {},
   "outputs": [],
   "source": [
    "import matplotlib.pyplot as plt\n"
   ]
  },
  {
   "cell_type": "code",
   "execution_count": null,
   "id": "815c33bf-7de4-495d-82a5-6d7e56c0b828",
   "metadata": {},
   "outputs": [],
   "source": [
    "plt.figure(figsize=(10,5))\n",
    "plt.subplot(1,2,1)\n",
    "sns.lineplot(data=df,x=\"sepalengthcm\",y=\"petallengthcm\",hue=\"species\")\n",
    "plt.subplot(1,2,2)\n",
    "sns.scatterplot(data=df,x=\"sepalengthcm\",y=\"petallengthcm\",hue=\"species\")\n",
    "plt.show()\n",
    "\n",
    "\n"
   ]
  },
  {
   "cell_type": "code",
   "execution_count": null,
   "id": "74a781eb-0c71-43c6-ab9e-4e1a8a6b1596",
   "metadata": {},
   "outputs": [],
   "source": [
    "df[[\"sepalengthcm\",\t\"sepalwidthcm\",\t\"petallengthcm\",\t\"petalwidthcmspecies\",]].corr()"
   ]
  },
  {
   "cell_type": "code",
   "execution_count": null,
   "id": "418e5a58-4af5-4366-b748-f0bad9fdc503",
   "metadata": {},
   "outputs": [],
   "source": [
    "sns.heatmap(df[[\"sepalengthcm\",\t\"sepalwidthcm\",\t\"petallengthcm\",\t\"petalwidthcmspecies\",]].corr(),annot=True)"
   ]
  },
  {
   "cell_type": "code",
   "execution_count": null,
   "id": "0af3298a-f7d5-41e8-addc-e172269dc9f7",
   "metadata": {},
   "outputs": [],
   "source": [
    "sns.countplot(data=df,x=\"species\",palette=[\"red\",\"yellow\",\"orange\"])"
   ]
  },
  {
   "cell_type": "code",
   "execution_count": null,
   "id": "a2667cfa-bcd0-444a-9363-c1d9b7b1d41a",
   "metadata": {},
   "outputs": [],
   "source": [
    "import pandas as pd"
   ]
  },
  {
   "cell_type": "code",
   "execution_count": null,
   "id": "8153f0da-9c57-4744-87f7-a6591fd1319b",
   "metadata": {},
   "outputs": [],
   "source": [
    "data= pd.read_csv(\"DATACSV/pokemon_data.csv\")\n",
    "data"
   ]
  },
  {
   "cell_type": "code",
   "execution_count": null,
   "id": "a3d3ae1a-12dd-4eb2-b162-85156a1e5e1c",
   "metadata": {},
   "outputs": [],
   "source": [
    "data=data[[\"HP\",\"Attack\",\"Defense\",\"Sp. Atk\",\"Sp. Def\",\"Speed\"]]\n",
    "data.describe()"
   ]
  },
  {
   "cell_type": "code",
   "execution_count": null,
   "id": "f1ca13be-5c38-4080-9065-d7e942cc6284",
   "metadata": {},
   "outputs": [],
   "source": []
  },
  {
   "cell_type": "code",
   "execution_count": null,
   "id": "f9413363-3076-45c2-bde5-64c3b3efb730",
   "metadata": {},
   "outputs": [],
   "source": [
    "data1=data[[\"HP\",\"Attack\",\"Defense\",\"Sp. Atk\",\"Sp. Def\",\"Speed\"]]\n",
    "describe=data1.describe()\n",
    "describe.loc[[\"mean\",\"std\",\"50%\"],:]"
   ]
  },
  {
   "cell_type": "code",
   "execution_count": null,
   "id": "af112b34-7745-45c2-9683-1c5847cb5965",
   "metadata": {},
   "outputs": [],
   "source": [
    "import pandas as pd\n",
    "import numpy as np\n",
    "import seaborn as sns\n",
    "import matplotlib.pyplot as plt"
   ]
  },
  {
   "cell_type": "code",
   "execution_count": null,
   "id": "8c6c9780-ae44-4cfb-b3ee-f8bedf5aeb2f",
   "metadata": {},
   "outputs": [],
   "source": [
    "import pandas as pd\n",
    "import numpy as np\n",
    "import seaborn as sns\n",
    "import matplotlib.pyplot as plt"
   ]
  },
  {
   "cell_type": "code",
   "execution_count": null,
   "id": "f7d3f9f6-3107-4fcb-80ba-f88577595fa2",
   "metadata": {},
   "outputs": [],
   "source": [
    "data= pd.read_csv(\"DATACSV/pokemon_data.csv\")\n",
    "data"
   ]
  },
  {
   "cell_type": "code",
   "execution_count": null,
   "id": "17c3afff-3843-42d7-8b4d-c2452c898b39",
   "metadata": {},
   "outputs": [],
   "source": [
    "data= pd.read_csv(\"DATACSV/pokemon_data.csv\")\n",
    "data"
   ]
  },
  {
   "cell_type": "code",
   "execution_count": null,
   "id": "408a5d81-1039-40bc-b178-88f5470b9565",
   "metadata": {},
   "outputs": [],
   "source": []
  },
  {
   "cell_type": "code",
   "execution_count": null,
   "id": "8cc09b69-d52b-4588-a25e-a926ae73142c",
   "metadata": {},
   "outputs": [],
   "source": [
    "data[[\"Type 1\",\"Type 2\"]].mode()"
   ]
  },
  {
   "cell_type": "code",
   "execution_count": null,
   "id": "5ac0ced8-5c11-4cc4-ae79-10bd1aa2a8ea",
   "metadata": {},
   "outputs": [],
   "source": [
    "data.loc[data[\"Legendary\"]==True,[\"Type 1\",\"Type 2\"]].mode()"
   ]
  },
  {
   "cell_type": "code",
   "execution_count": null,
   "id": "6a08e7ec-8674-4483-b52d-65eed1df484a",
   "metadata": {},
   "outputs": [],
   "source": [
    "def func(x):\n",
    "    if x>100:\n",
    "        return \"high\"\n",
    "    elif x>50:\n",
    "        return \"medium\"\n",
    "    else:\n",
    "        return \"low\"\n",
    "data[\"speed_category\"]=data[\"Speed\"].apply(func)\n",
    "data.head()"
   ]
  },
  {
   "cell_type": "code",
   "execution_count": null,
   "id": "33a8d0c9-d48a-4ffc-9490-4ad4816cd398",
   "metadata": {},
   "outputs": [],
   "source": [
    "sns.countplot(data=data,x=\"speed_category\")"
   ]
  },
  {
   "cell_type": "code",
   "execution_count": null,
   "id": "0cd0fd6c-fee1-4f3e-a948-7d467a477618",
   "metadata": {},
   "outputs": [],
   "source": [
    "c_c=data.groupby([\"Type 1\",\"Type 2\"])[\"HP\"].count().reset_index()\n",
    "cc_sort=c_c.sort_values(\"HP\")\n",
    "mx_c=cc_sort.loc[cc_sort[\"HP\"]==cc_sort[\"HP\"].max()]\n",
    "mn_c=cc_sort.loc[cc_sort[\"HP\"]==cc_sort[\"HP\"].min()]\n"
   ]
  },
  {
   "cell_type": "code",
   "execution_count": null,
   "id": "67acb36d-662b-4558-91db-82b74d8b9cf3",
   "metadata": {},
   "outputs": [],
   "source": [
    "mx_c"
   ]
  },
  {
   "cell_type": "code",
   "execution_count": null,
   "id": "6945dd77-1357-406e-8405-b982d91e7749",
   "metadata": {},
   "outputs": [],
   "source": [
    "import pandas as pd\n",
    "import numpy as np\n",
    "import seaborn as sns\n",
    "import matplotlib.pyplot as plt\n",
    "data= pd.read_csv(\"DATACSV/pokemon_data.csv\")\n",
    "data.head()"
   ]
  },
  {
   "cell_type": "code",
   "execution_count": null,
   "id": "53593eda-90d0-4d00-961c-d88e16957030",
   "metadata": {},
   "outputs": [],
   "source": [
    "df=pd.read_csv(\"iris.csv\")\n",
    "df.head()"
   ]
  },
  {
   "cell_type": "code",
   "execution_count": null,
   "id": "931ff10a-d1d0-43fe-82aa-c2093c4292e3",
   "metadata": {},
   "outputs": [],
   "source": [
    "df.groupby(\"species\")[\"sepalengthcm\"].median().reset_index()"
   ]
  },
  {
   "cell_type": "code",
   "execution_count": null,
   "id": "763e29af-387a-46a8-8b68-d045d4b1184b",
   "metadata": {},
   "outputs": [],
   "source": [
    "group_data=df.groupby(\"species\")[\"sepalengthcm\"].median().reset_index()\n",
    "sns.barplot(data=group_data,x=\"species\",y=\"sepalengthcm\")"
   ]
  },
  {
   "cell_type": "code",
   "execution_count": null,
   "id": "84a1308f-f81c-4cc7-b3a2-27150b7a80ff",
   "metadata": {},
   "outputs": [],
   "source": [
    "df.describe()"
   ]
  },
  {
   "cell_type": "code",
   "execution_count": null,
   "id": "10258d10-fc7a-48de-a6a6-32e8481dd5fa",
   "metadata": {},
   "outputs": [],
   "source": [
    "sns.boxplot(y=\"sepalengthcm\",data=df)"
   ]
  },
  {
   "cell_type": "code",
   "execution_count": null,
   "id": "35e307d9-15db-4848-9996-4adfb4b9c9ee",
   "metadata": {},
   "outputs": [],
   "source": [
    "sns.countplot(data=data.loc[:,[\"Name\",\"Generation\"]],x=\"Generation\")"
   ]
  },
  {
   "cell_type": "code",
   "execution_count": null,
   "id": "489c53ca-13a9-48f9-8e2f-549b7d3fe7fb",
   "metadata": {},
   "outputs": [],
   "source": []
  },
  {
   "cell_type": "code",
   "execution_count": null,
   "id": "6dbe13b3-d711-4557-ad32-fe552acc0fef",
   "metadata": {},
   "outputs": [],
   "source": []
  },
  {
   "cell_type": "code",
   "execution_count": null,
   "id": "9a9b2df4-b087-41c4-9ebd-4681b13e00c6",
   "metadata": {},
   "outputs": [],
   "source": []
  },
  {
   "cell_type": "code",
   "execution_count": null,
   "id": "aaa9b137-b5d5-4241-897b-4680903abfea",
   "metadata": {},
   "outputs": [],
   "source": [
    "sns.barplot(data=df,x=\"species\",y=\"sepalengthcm\")"
   ]
  },
  {
   "cell_type": "code",
   "execution_count": null,
   "id": "b762a1ed-1b79-4dae-94fa-c91d9ef5f043",
   "metadata": {},
   "outputs": [],
   "source": [
    "c_c = data.groupby([\"Type 1\", \"Type 2\"])[\"HP\"].count().reset_index()\n",
    "cc_sort=c_c.sort_values(\"HP\")\n",
    "mx_c=cc_sort.loc[cc_sort[\"HP\"]==cc_sort[\"HP\"].max()]\n",
    "mn_c=cc_sort.loc[cc_sort[\"HP\"]==cc_sort[\"HP\"].min()]\n"
   ]
  },
  {
   "cell_type": "code",
   "execution_count": null,
   "id": "5fb2527c-5af9-4763-bfb6-aa118ceae35e",
   "metadata": {},
   "outputs": [],
   "source": [
    "mx_c"
   ]
  },
  {
   "cell_type": "code",
   "execution_count": null,
   "id": "fb87057c-f394-4b74-a5bc-8d71867688ef",
   "metadata": {},
   "outputs": [],
   "source": [
    "mn_c"
   ]
  },
  {
   "cell_type": "code",
   "execution_count": null,
   "id": "2a471654-d07b-46b7-a97f-c2c577e34f67",
   "metadata": {},
   "outputs": [],
   "source": [
    "sns.kdeplot(data=data.groupby([\"Type 1\", \"Type 2\"]).size().reset_index().sort_values(0),x=0)"
   ]
  },
  {
   "cell_type": "code",
   "execution_count": null,
   "id": "01f7c97b-2576-4b0d-a867-85d255f93575",
   "metadata": {},
   "outputs": [],
   "source": [
    "a=data.groupby(\"Generation\")[[\"Attack\",\"Defense\"]].mean()\n",
    "plt.plot(a.index, a[\"Attack\"], label=\"Attack\", marker=\"o\")\n",
    "plt.plot(a.index, a[\"Defense\"], label=\"Defense\", marker=\"o\")\n",
    "plt.xlabel(\"Generation\")\n",
    "plt.ylabel(\"Values\")\n",
    "plt.legend()\n",
    "plt.show()"
   ]
  },
  {
   "cell_type": "code",
   "execution_count": null,
   "id": "1e9bda4d-63ea-4718-b9b3-5050e7d8c906",
   "metadata": {},
   "outputs": [],
   "source": [
    "data.groupby(\"Type 1\")[\"Speed\"].mean()"
   ]
  },
  {
   "cell_type": "code",
   "execution_count": null,
   "id": "705d5223-330e-45d5-a492-9dfa382ca483",
   "metadata": {},
   "outputs": [],
   "source": [
    "sns.barplot(data=data.groupby(\"Type 1\")[\"Speed\"].mean().reset_index(),x=\"Type 1\",y=\"Speed\")\n",
    "plt.xticks(rotation=90)\n",
    "plt.yticks(rotation=45)\n",
    "plt.show()"
   ]
  },
  {
   "cell_type": "code",
   "execution_count": null,
   "id": "da4dfe42-a36e-4464-9df4-b200dde83744",
   "metadata": {},
   "outputs": [],
   "source": [
    "dual_type=data.loc[~data[\"Type 2\"].isna()]\n",
    "single_type=data.loc[data[\"Type 2\"].isna()]\n",
    "dual_type\n",
    "single_type"
   ]
  },
  {
   "cell_type": "code",
   "execution_count": null,
   "id": "88c42f6f-2a84-455e-96b8-c6c52fdc15e7",
   "metadata": {},
   "outputs": [],
   "source": []
  },
  {
   "cell_type": "code",
   "execution_count": null,
   "id": "54f53192-b059-47ec-8e40-4927214fb902",
   "metadata": {},
   "outputs": [],
   "source": []
  },
  {
   "cell_type": "code",
   "execution_count": null,
   "id": "aa1844bd-bb00-4323-a628-f13ad0cbf655",
   "metadata": {},
   "outputs": [],
   "source": []
  },
  {
   "cell_type": "code",
   "execution_count": null,
   "id": "629f3a7c-b948-44d3-b8ff-929ce33552c0",
   "metadata": {},
   "outputs": [],
   "source": []
  },
  {
   "cell_type": "code",
   "execution_count": null,
   "id": "9530a758-b8ee-4211-bbbc-7630749b1138",
   "metadata": {},
   "outputs": [],
   "source": []
  },
  {
   "cell_type": "code",
   "execution_count": null,
   "id": "e1fb8dbe-7681-433f-9387-797c435d5217",
   "metadata": {},
   "outputs": [],
   "source": []
  },
  {
   "cell_type": "code",
   "execution_count": null,
   "id": "fc4e31ee-3036-464c-9135-097a7e2d0aeb",
   "metadata": {},
   "outputs": [],
   "source": []
  }
 ],
 "metadata": {
  "kernelspec": {
   "display_name": "Python 3 (ipykernel)",
   "language": "python",
   "name": "python3"
  },
  "language_info": {
   "codemirror_mode": {
    "name": "ipython",
    "version": 3
   },
   "file_extension": ".py",
   "mimetype": "text/x-python",
   "name": "python",
   "nbconvert_exporter": "python",
   "pygments_lexer": "ipython3",
   "version": "3.10.10"
  }
 },
 "nbformat": 4,
 "nbformat_minor": 5
}
